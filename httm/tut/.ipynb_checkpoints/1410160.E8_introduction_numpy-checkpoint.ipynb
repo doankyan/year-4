{
 "cells": [
  {
   "cell_type": "markdown",
   "metadata": {},
   "source": [
    "# Giới thiệu numpy"
   ]
  },
  {
   "cell_type": "markdown",
   "metadata": {},
   "source": [
    "Numpy là một thư viện rất hữu ích trong xử lý mảng, ma trận, ...\n",
    "Nó là một thư viện không thể thiếu khi làm việc với xử lý số học trên python"
   ]
  },
  {
   "cell_type": "markdown",
   "metadata": {},
   "source": [
    "Để sử dụng ta phải import thư viện và alias tên, numpy thường được gọi với tên \"np\" cho ngắn gọn"
   ]
  },
  {
   "cell_type": "code",
   "execution_count": 62,
   "metadata": {
    "collapsed": true
   },
   "outputs": [],
   "source": [
    "import numpy as np"
   ]
  },
  {
   "cell_type": "markdown",
   "metadata": {},
   "source": [
    "## Các thao tác cơ bản"
   ]
  },
  {
   "cell_type": "code",
   "execution_count": 63,
   "metadata": {},
   "outputs": [
    {
     "name": "stdout",
     "output_type": "stream",
     "text": [
      "<class 'numpy.ndarray'>\n",
      "(3,)\n"
     ]
    }
   ],
   "source": [
    "a = np.array([1, 2, 3])   # Create a rank 1 array\n",
    "print(type(a))            # Prints \"<class 'numpy.ndarray'>\"\n",
    "print(a.shape)            # Prints \"(3,)\""
   ]
  },
  {
   "cell_type": "code",
   "execution_count": 64,
   "metadata": {},
   "outputs": [
    {
     "name": "stdout",
     "output_type": "stream",
     "text": [
      "1 2 3\n",
      "[5 2 3]\n"
     ]
    }
   ],
   "source": [
    "print(a[0], a[1], a[2])   # Prints \"1 2 3\"\n",
    "a[0] = 5                  # Change an element of the array\n",
    "print(a)                  # Prints \"[5, 2, 3]\"c = np.array( [ [1,2], [3,4] ], dtype=complex ) # complex number"
   ]
  },
  {
   "cell_type": "code",
   "execution_count": 65,
   "metadata": {},
   "outputs": [
    {
     "name": "stdout",
     "output_type": "stream",
     "text": [
      "[[ 1.+0.j  2.+0.j]\n",
      " [ 3.+0.j  4.+0.j]]\n"
     ]
    }
   ],
   "source": [
    "c = np.array( [ [1,2], [3,4] ], dtype=complex ) # complex number\n",
    "print(c)"
   ]
  },
  {
   "cell_type": "markdown",
   "metadata": {},
   "source": [
    "** Truy xuất phần tử **\n",
    "\n",
    "Các thao tác truy xuất phần tử cơ bản giống python.\n",
    "\n",
    "Ngoài ra, numpy còn cung cấp các thao tác phức tạp hơn để truy xuất các phần tử thuận tiện hơn"
   ]
  },
  {
   "cell_type": "code",
   "execution_count": 66,
   "metadata": {},
   "outputs": [
    {
     "name": "stdout",
     "output_type": "stream",
     "text": [
      "(3, 3) \n",
      " [[1 2 3]\n",
      " [4 5 6]\n",
      " [7 8 9]]\n",
      "a[0] ->  [1 2 3]\n",
      "a[1][2] ->  6\n",
      "a[1,2] ->  6\n"
     ]
    }
   ],
   "source": [
    "a = np.array([[1,2,3],[4,5,6],[7,8,9]])\n",
    "print(a.shape, '\\n', a)\n",
    "\n",
    "# simple\n",
    "print('a[0] -> ', a[0])\n",
    "print('a[1][2] -> ', a[1][2])\n",
    "print('a[1,2] -> ' , a[1,2])"
   ]
  },
  {
   "cell_type": "markdown",
   "metadata": {},
   "source": [
    "Một số thao tác truy xuất phức tạp hơn về array"
   ]
  },
  {
   "cell_type": "code",
   "execution_count": 67,
   "metadata": {},
   "outputs": [
    {
     "name": "stdout",
     "output_type": "stream",
     "text": [
      "[[1 2]\n",
      " [4 5]]\n"
     ]
    }
   ],
   "source": [
    "# range\n",
    "print(a[:2,:2])"
   ]
  },
  {
   "cell_type": "code",
   "execution_count": 68,
   "metadata": {},
   "outputs": [
    {
     "name": "stdout",
     "output_type": "stream",
     "text": [
      "[[1 2 3]\n",
      " [4 5 6]]\n"
     ]
    }
   ],
   "source": [
    "print(a[:2,...])"
   ]
  },
  {
   "cell_type": "code",
   "execution_count": 69,
   "metadata": {},
   "outputs": [
    {
     "name": "stdout",
     "output_type": "stream",
     "text": [
      "[2 5 8]\n"
     ]
    }
   ],
   "source": [
    "print(a[:, 1])"
   ]
  },
  {
   "cell_type": "markdown",
   "metadata": {},
   "source": [
    "Thao tác có điều kiện"
   ]
  },
  {
   "cell_type": "code",
   "execution_count": 70,
   "metadata": {},
   "outputs": [
    {
     "name": "stdout",
     "output_type": "stream",
     "text": [
      "[4 5 6 7 8 9]\n",
      "[[False False False]\n",
      " [ True  True  True]\n",
      " [ True  True  True]]\n",
      "[4 5 6 7 8 9]\n"
     ]
    }
   ],
   "source": [
    "print(a[a>3])\n",
    "\n",
    "cnd = (a > 3)\n",
    "print(cnd)\n",
    "\n",
    "print(a[cnd])"
   ]
  },
  {
   "cell_type": "markdown",
   "metadata": {},
   "source": [
    "Một số thao tác khởi tạo gán giá trị hữu ích"
   ]
  },
  {
   "cell_type": "code",
   "execution_count": 71,
   "metadata": {},
   "outputs": [
    {
     "name": "stdout",
     "output_type": "stream",
     "text": [
      "[[ 0.  0.]\n",
      " [ 0.  0.]]\n"
     ]
    }
   ],
   "source": [
    "a = np.zeros((2,2))   \n",
    "print(a)"
   ]
  },
  {
   "cell_type": "code",
   "execution_count": 72,
   "metadata": {},
   "outputs": [
    {
     "name": "stdout",
     "output_type": "stream",
     "text": [
      "[[ 1.  1.]]\n"
     ]
    }
   ],
   "source": [
    "b = np.ones((1,2))    # Create an array of all ones\n",
    "print(b)              # Prints \"[[ 1.  1.]]\""
   ]
  },
  {
   "cell_type": "code",
   "execution_count": 73,
   "metadata": {},
   "outputs": [
    {
     "name": "stdout",
     "output_type": "stream",
     "text": [
      "[[7 7]\n",
      " [7 7]]\n"
     ]
    }
   ],
   "source": [
    "c = np.full((2,2), 7)  # Create a constant array\n",
    "print(c)"
   ]
  },
  {
   "cell_type": "code",
   "execution_count": 74,
   "metadata": {},
   "outputs": [
    {
     "name": "stdout",
     "output_type": "stream",
     "text": [
      "[[ 0.81610706  0.4357663 ]\n",
      " [ 0.10553139  0.98156935]]\n"
     ]
    }
   ],
   "source": [
    "e = np.random.random((2,2))  # Create an array filled with random values\n",
    "print(e)                     # Might print \"[[ 0.91940167  0.08143941]\n",
    "                             #               [ 0.68744134  0.87236687]]\""
   ]
  },
  {
   "cell_type": "code",
   "execution_count": 75,
   "metadata": {},
   "outputs": [
    {
     "name": "stdout",
     "output_type": "stream",
     "text": [
      "[[ 0.15   0.07 ]\n",
      " [ 0.21   0.308]\n",
      " [ 0.296  0.495]]\n"
     ]
    }
   ],
   "source": [
    "# Create an empty array\n",
    "print(np.empty((3,2)))"
   ]
  },
  {
   "cell_type": "code",
   "execution_count": 76,
   "metadata": {},
   "outputs": [
    {
     "name": "stdout",
     "output_type": "stream",
     "text": [
      "[ 10  15  20  25  30  35  40  45  50  55  60  65  70  75  80  85  90  95\n",
      " 100 105 110 115 120]\n"
     ]
    }
   ],
   "source": [
    "# Create an array of evenly-spaced values\n",
    "print(np.arange(10,125,5))"
   ]
  },
  {
   "cell_type": "code",
   "execution_count": 77,
   "metadata": {},
   "outputs": [
    {
     "name": "stdout",
     "output_type": "stream",
     "text": [
      "[ 0.    0.25  0.5   0.75  1.    1.25  1.5   1.75  2.  ]\n"
     ]
    }
   ],
   "source": [
    "# Create an array of evenly-spaced values\n",
    "print(np.linspace(0,2,9))"
   ]
  },
  {
   "cell_type": "code",
   "execution_count": 78,
   "metadata": {},
   "outputs": [
    {
     "name": "stdout",
     "output_type": "stream",
     "text": [
      "[[ 1.  0.]\n",
      " [ 0.  1.]]\n"
     ]
    }
   ],
   "source": [
    "print(np.eye(2))         # Create a 2x2 identity matrix"
   ]
  },
  {
   "cell_type": "code",
   "execution_count": 79,
   "metadata": {},
   "outputs": [
    {
     "name": "stdout",
     "output_type": "stream",
     "text": [
      "[[ 1.  0.  0.]\n",
      " [ 0.  1.  0.]\n",
      " [ 0.  0.  1.]]\n"
     ]
    }
   ],
   "source": [
    "print(np.identity(3))"
   ]
  },
  {
   "cell_type": "markdown",
   "metadata": {},
   "source": [
    "## Thêm bớt phần tử vào array"
   ]
  },
  {
   "cell_type": "code",
   "execution_count": 80,
   "metadata": {},
   "outputs": [
    {
     "data": {
      "text/plain": [
       "array([[[ 0,  1,  2,  3],\n",
       "        [ 4,  5,  6,  7],\n",
       "        [ 8,  9, 10, 11]],\n",
       "\n",
       "       [[12, 13, 14, 15],\n",
       "        [16, 17, 18, 19],\n",
       "        [20, 21, 22, 23]]])"
      ]
     },
     "execution_count": 80,
     "metadata": {},
     "output_type": "execute_result"
    }
   ],
   "source": [
    "a = np.arange(24)\n",
    "a = a.reshape((2,3,4))\n",
    "a"
   ]
  },
  {
   "cell_type": "code",
   "execution_count": 81,
   "metadata": {},
   "outputs": [
    {
     "data": {
      "text/plain": [
       "array([ 0,  1,  2,  3,  4,  5,  6,  7,  8,  9, 10, 11, 12, 13, 14, 15, 16,\n",
       "       17, 18, 19, 20, 21, 22, 23,  0,  1,  2,  3])"
      ]
     },
     "execution_count": 81,
     "metadata": {},
     "output_type": "execute_result"
    }
   ],
   "source": [
    "new_a = np.append(a, [0,1,2,3])\n",
    "new_a"
   ]
  },
  {
   "cell_type": "code",
   "execution_count": 82,
   "metadata": {},
   "outputs": [
    {
     "name": "stdout",
     "output_type": "stream",
     "text": [
      "[[0 1 2]\n",
      " [3 4 5]]\n"
     ]
    },
    {
     "data": {
      "text/plain": [
       "array([[0, 1, 2, 1],\n",
       "       [3, 4, 5, 2]])"
      ]
     },
     "execution_count": 82,
     "metadata": {},
     "output_type": "execute_result"
    }
   ],
   "source": [
    "a = np.arange(6).reshape((2,3))\n",
    "print(a)\n",
    "np.append(a, np.asarray([[1],[2]]), axis=1)"
   ]
  },
  {
   "cell_type": "code",
   "execution_count": 83,
   "metadata": {},
   "outputs": [
    {
     "data": {
      "text/plain": [
       "array([[ 0,  1,  2],\n",
       "       [ 3,  4,  5],\n",
       "       [ 8,  9, 10]])"
      ]
     },
     "execution_count": 83,
     "metadata": {},
     "output_type": "execute_result"
    }
   ],
   "source": [
    "np.append(a, np.asarray([[8,9,10]]), axis=0)"
   ]
  },
  {
   "cell_type": "code",
   "execution_count": 84,
   "metadata": {},
   "outputs": [
    {
     "data": {
      "text/plain": [
       "array([[ 0,  1,  2],\n",
       "       [ 3,  4,  5],\n",
       "       [ 8,  9, 10],\n",
       "       [11, 12, 13]])"
      ]
     },
     "execution_count": 84,
     "metadata": {},
     "output_type": "execute_result"
    }
   ],
   "source": [
    "np.append(a, np.asarray([[8,9,10], [11,12,13]]), axis=0)"
   ]
  },
  {
   "cell_type": "markdown",
   "metadata": {},
   "source": [
    "## Làm việc với file dữ liệu\n",
    "\n",
    "** Tải dữ liệu từ text file **\n",
    "\n",
    "Ví dụ file 'data.txt' ở thư mục data chứa nội dung như sau:\n",
    "\n",
    "        Value1  Value2  Value3\n",
    "        0.2536  0.1008  0.3857\n",
    "        0.4839  0.4536  0.3561\n",
    "        0.1292  0.6875  0.5929\n",
    "        0.1781  0.3049  0.8928\n",
    "        0.6253  0.3486  0.8791"
   ]
  },
  {
   "cell_type": "code",
   "execution_count": 85,
   "metadata": {},
   "outputs": [
    {
     "name": "stdout",
     "output_type": "stream",
     "text": [
      "x =  [ 0.2536  0.4839  0.1292  0.1781  0.6253]\n",
      "y =  [ 0.1008  0.4536  0.6875  0.3049  0.3486]\n",
      "z =  [ 0.3857  0.3561  0.5929  0.8928  0.8791]\n"
     ]
    }
   ],
   "source": [
    "# required file exist\n",
    "x, y, z = np.loadtxt('data/data.txt',\n",
    "                    skiprows=1,\n",
    "                    unpack=True)\n",
    "print('x = ', x)\n",
    "print('y = ', y)\n",
    "print('z = ', z)"
   ]
  },
  {
   "cell_type": "markdown",
   "metadata": {},
   "source": [
    "** Lưu dữ liệu vào file text **"
   ]
  },
  {
   "cell_type": "code",
   "execution_count": 86,
   "metadata": {
    "collapsed": true
   },
   "outputs": [],
   "source": [
    "x = np.arange(0.0,10.0,2.0)\n",
    "np.savetxt('data/test.out', x, delimiter=',')"
   ]
  },
  {
   "cell_type": "markdown",
   "metadata": {},
   "source": [
    "## NumPy Broadcasting"
   ]
  },
  {
   "cell_type": "markdown",
   "metadata": {},
   "source": [
    "Đây là một trong những thao tác mạnh mẽ mà numpy hỗ trợ khi xử lý với dữ liệu dạng mảng.\n",
    "\n",
    "Ví dụ dưới thực hiện cộng hai ma trận x và y để tạo ra ma trận z, trong trường hợp này x, y có cùng shape"
   ]
  },
  {
   "cell_type": "code",
   "execution_count": 91,
   "metadata": {},
   "outputs": [
    {
     "name": "stdout",
     "output_type": "stream",
     "text": [
      "(3, 4) \n",
      " [[ 1.  1.  1.  1.]\n",
      " [ 1.  1.  1.  1.]\n",
      " [ 1.  1.  1.  1.]]\n",
      "(3, 4)\n",
      "(3, 4)\n",
      "[[ 1.35012029  1.37224896  1.73715802  1.57562981]\n",
      " [ 1.27981437  1.06775492  1.04979119  1.28440556]\n",
      " [ 1.27286624  1.35815651  1.31446736  1.70670389]]\n"
     ]
    }
   ],
   "source": [
    "# Initialize `x`\n",
    "x = np.ones((3,4))\n",
    "\n",
    "# Check shape of `x`\n",
    "print(x.shape, '\\n', x)\n",
    "\n",
    "# Initialize `y`\n",
    "y = np.random.random((3,4))\n",
    "\n",
    "# Check shape of `y`\n",
    "print(y.shape)\n",
    "\n",
    "# Add `x` and `y`\n",
    "z = x + y\n",
    "print(z.shape) # same shape as x, y\n",
    "print(z)"
   ]
  },
  {
   "cell_type": "markdown",
   "metadata": {},
   "source": [
    "Trường hợp này thì khác"
   ]
  },
  {
   "cell_type": "code",
   "execution_count": 89,
   "metadata": {},
   "outputs": [
    {
     "name": "stdout",
     "output_type": "stream",
     "text": [
      "(3, 4) \n",
      " [[ 1.  1.  1.  1.]\n",
      " [ 1.  1.  1.  1.]\n",
      " [ 1.  1.  1.  1.]]\n",
      "(4,) ----------- [0 1 2 3]\n",
      "[[ 1.  0. -1. -2.]\n",
      " [ 1.  0. -1. -2.]\n",
      " [ 1.  0. -1. -2.]]\n"
     ]
    }
   ],
   "source": [
    "# print x info\n",
    "print(x.shape, '\\n', x)\n",
    "\n",
    "# Initialize `y`\n",
    "t = np.arange(4)\n",
    "print(t.shape,'-----------', t)\n",
    "\n",
    "# Subtract `x` and `t`\n",
    "print(x - t)"
   ]
  },
  {
   "cell_type": "markdown",
   "metadata": {},
   "source": [
    "** *Phép toán này thì thế nào?* **"
   ]
  },
  {
   "cell_type": "code",
   "execution_count": 90,
   "metadata": {},
   "outputs": [
    {
     "name": "stdout",
     "output_type": "stream",
     "text": [
      "[[ 6.  6.  6.  6.]\n",
      " [ 6.  6.  6.  6.]\n",
      " [ 6.  6.  6.  6.]]\n",
      "(3, 4) \n",
      " [[ 1.  1.  1.  1.]\n",
      " [ 1.  1.  1.  1.]\n",
      " [ 1.  1.  1.  1.]]\n",
      "y1 =  [[[ 0.30784218  0.00243472  0.7749936   0.15800297]]\n",
      "\n",
      " [[ 0.79861416  0.70459006  0.8508025   0.30612149]]\n",
      "\n",
      " [[ 0.43898014  0.81354113  0.40153848  0.54207403]]\n",
      "\n",
      " [[ 0.17098074  0.46218924  0.4082757   0.81471355]]\n",
      "\n",
      " [[ 0.64415026  0.36716724  0.53207789  0.06293065]]]\n"
     ]
    },
    {
     "data": {
      "text/plain": [
       "array([[[ 1.30784218,  1.00243472,  1.7749936 ,  1.15800297],\n",
       "        [ 1.30784218,  1.00243472,  1.7749936 ,  1.15800297],\n",
       "        [ 1.30784218,  1.00243472,  1.7749936 ,  1.15800297]],\n",
       "\n",
       "       [[ 1.79861416,  1.70459006,  1.8508025 ,  1.30612149],\n",
       "        [ 1.79861416,  1.70459006,  1.8508025 ,  1.30612149],\n",
       "        [ 1.79861416,  1.70459006,  1.8508025 ,  1.30612149]],\n",
       "\n",
       "       [[ 1.43898014,  1.81354113,  1.40153848,  1.54207403],\n",
       "        [ 1.43898014,  1.81354113,  1.40153848,  1.54207403],\n",
       "        [ 1.43898014,  1.81354113,  1.40153848,  1.54207403]],\n",
       "\n",
       "       [[ 1.17098074,  1.46218924,  1.4082757 ,  1.81471355],\n",
       "        [ 1.17098074,  1.46218924,  1.4082757 ,  1.81471355],\n",
       "        [ 1.17098074,  1.46218924,  1.4082757 ,  1.81471355]],\n",
       "\n",
       "       [[ 1.64415026,  1.36716724,  1.53207789,  1.06293065],\n",
       "        [ 1.64415026,  1.36716724,  1.53207789,  1.06293065],\n",
       "        [ 1.64415026,  1.36716724,  1.53207789,  1.06293065]]])"
      ]
     },
     "execution_count": 90,
     "metadata": {},
     "output_type": "execute_result"
    }
   ],
   "source": [
    "print(x + 5)  # what output?\n",
    "\n",
    "# and\n",
    "print(x.shape, '\\n', x)\n",
    "y1 = np.random.random((5,1,4))\n",
    "print('y1 = ',y1)\n",
    "\n",
    "# Add `x` and `y`\n",
    "x + y1"
   ]
  },
  {
   "cell_type": "markdown",
   "metadata": {},
   "source": [
    "** Một số hàm hữu ích của numpy **\n",
    "\n",
    "    np.add(), np.subtract(), np.multiply(), np.divide() and np.remainder()\n",
    "    np.exp() and np.sqrt()\n",
    "    np.sin() and np.cos()\n",
    "    np.log()\n",
    "    np.dot()"
   ]
  },
  {
   "cell_type": "markdown",
   "metadata": {},
   "source": [
    "## Làm việc với shape"
   ]
  },
  {
   "cell_type": "code",
   "execution_count": null,
   "metadata": {
    "collapsed": true
   },
   "outputs": [],
   "source": [
    "a = np.arange(36)\n",
    "print(a.shape, a)\n",
    "b = np.resize(a, (9,4))\n",
    "print(b.shape, '\\n', b)"
   ]
  },
  {
   "cell_type": "code",
   "execution_count": null,
   "metadata": {
    "collapsed": true
   },
   "outputs": [],
   "source": [
    "a.resize((4,9))\n",
    "print('a info', a.shape, '\\n', a)"
   ]
  },
  {
   "cell_type": "code",
   "execution_count": null,
   "metadata": {
    "collapsed": true
   },
   "outputs": [],
   "source": [
    "d = a.reshape((36,))\n",
    "print('d', d)\n",
    "print('d size', d.size)"
   ]
  },
  {
   "cell_type": "code",
   "execution_count": null,
   "metadata": {
    "collapsed": true
   },
   "outputs": [],
   "source": [
    "print(a)\n",
    "print('flat ', a.ravel())"
   ]
  },
  {
   "cell_type": "markdown",
   "metadata": {},
   "source": [
    "Một số nguồn tham khảo thêm về numpy:\n",
    "- http://www.numpy.org/\n",
    "- https://docs.scipy.org/doc/numpy-dev/user/quickstart.html\n",
    "- https://www.datacamp.com/community/tutorials/python-numpy-tutorial"
   ]
  },
  {
   "cell_type": "markdown",
   "metadata": {},
   "source": [
    "## Bài tập\n",
    "\n",
    "Sinh viên được yêu cầu hoàn thành các bài tập sau đây và nộp cho thầy hướng dẫn\n",
    "\n",
    "Bài nộp của sinh viên là chính là **file này** sau khi được đổi tên thành **MSSV.E8_introduction_numpy.ipynb** và đừng quên ghi thông tin sinh viên vào các ô ở dưới.\n",
    "\n",
    "Địa chỉ nộp bài: https://www.dropbox.com/request/NLGab2sGtABTGwtjASQU\n",
    "\n",
    "Deadline nộp bài: **10:00 thứ 2 tuần tiếp theo**\n",
    "\n",
    "*Điểm bài này sẽ được tổng hợp với điểm chấm trên lớp (nếu có) để ra điểm cuối cùng*"
   ]
  },
  {
   "cell_type": "markdown",
   "metadata": {},
   "source": [
    "**Bài 1**: Sinh viên hãy vào trang web sau để lấy dữ liệu và đọc mô tả về dữ liệu:\n",
    "http://archive.ics.uci.edu/ml/datasets/Abalone\n",
    "\n",
    "1) Viết đoạn chương trình để load dữ liệu từ file abalone.data vào\n",
    "\n",
    "2) Đề xuất và viết code xử lý với trường dữ liệu nominal (trường sex)\n",
    "\n",
    "3) Viết hàm để với mỗi dòng dữ liệu trả về dạng {'X': np.array, 't': np.int32} phù hợp với bài toán (yêu cầu hàm lazy evaluation)\n",
    "\n",
    "4) Viết hàm get_batch(batch_size=16) sử dụng hàm ở 3 để trả về mỗi lần một \"batch\" với kích thước batch_size. Dạng của output {'X': np.array, 't': np.array}, với shape tương ứng là (batch_size, ?) và (batch_size,) (yêu cầu hàm lazy evaluation)\n",
    "\n",
    "*Sinh viên viết code tương ứng vào các phần bên dưới*"
   ]
  },
  {
   "cell_type": "markdown",
   "metadata": {},
   "source": [
    "## Thông tin sinh viên:"
   ]
  },
  {
   "cell_type": "code",
   "execution_count": 58,
   "metadata": {
    "collapsed": true
   },
   "outputs": [],
   "source": [
    "sid = '1410160'\n",
    "name = 'Doãn Kỳ Ân'"
   ]
  },
  {
   "cell_type": "code",
   "execution_count": 60,
   "metadata": {
    "collapsed": true
   },
   "outputs": [],
   "source": [
    "# Bai 2-1np.loadtxt(\"data/abalone.data\",\n",
    "data = np.loadtxt(\"data/abalone.data\",\n",
    "           dtype={'names': ('sex', 'length', 'diameter', 'height', 'whole_weight','shucked_weight','viscera_weight','sell_weight','rings'),\n",
    "          'formats': ('|S1', np.float, np.float, np.float,np.float,np.float,np.float,np.float,np.int)},\n",
    "           delimiter = ',')"
   ]
  },
  {
   "cell_type": "code",
   "execution_count": 61,
   "metadata": {
    "collapsed": true
   },
   "outputs": [],
   "source": [
    "# Bai 2-2\n",
    "#Đếm số các mẫu có giá trị sex = M,F,I\n",
    "size_row = np.shape(data)\n",
    "print(size_row[0],'\\n-------------\\n')\n",
    "countM = 0\n",
    "countF= 0\n",
    "countI = 0\n",
    "for i in range(size_row[0]):\n",
    "    if(data[i][0]== b'M'): countM  =countM + 1\n",
    "    elif(data[i][0]==b'F'): countF = countF +1\n",
    "    else: countI = countI+1\n",
    "print('Sex(M):', countM,'\\nSex(I):', countI,'\\nSex(F):', countF)\n"
   ]
  },
  {
   "cell_type": "code",
   "execution_count": 92,
   "metadata": {},
   "outputs": [
    {
     "data": {
      "text/plain": [
       "<generator object func at 0x00000237BCB90990>"
      ]
     },
     "execution_count": 92,
     "metadata": {},
     "output_type": "execute_result"
    }
   ],
   "source": [
    "# Bai 2-3\n",
    "def func(n):\n",
    "    num =0\n",
    "    while num<n:\n",
    "        yield {np.array((data[num][0],data[num][1],data[num][2],data[num][3],data[num][4],data[num][5],data[num][6],data[num][7])),np.int32(data[num][8])}\n",
    "        num +=1\n",
    "func(size_row)"
   ]
  },
  {
   "cell_type": "code",
   "execution_count": null,
   "metadata": {
    "collapsed": true
   },
   "outputs": [],
   "source": [
    "# Bai 2-4"
   ]
  },
  {
   "cell_type": "markdown",
   "metadata": {},
   "source": [
    "**Câu hỏi/thảo luận**"
   ]
  }
 ],
 "metadata": {
  "kernelspec": {
   "display_name": "Python 3",
   "language": "python",
   "name": "python3"
  },
  "language_info": {
   "codemirror_mode": {
    "name": "ipython",
    "version": 3
   },
   "file_extension": ".py",
   "mimetype": "text/x-python",
   "name": "python",
   "nbconvert_exporter": "python",
   "pygments_lexer": "ipython3",
   "version": "3.6.2"
  }
 },
 "nbformat": 4,
 "nbformat_minor": 2
}
