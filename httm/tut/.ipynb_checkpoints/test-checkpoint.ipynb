{
 "cells": [
  {
   "cell_type": "code",
   "execution_count": 207,
   "metadata": {
    "collapsed": true
   },
   "outputs": [],
   "source": [
    "import numpy as np"
   ]
  },
  {
   "cell_type": "code",
   "execution_count": 208,
   "metadata": {},
   "outputs": [
    {
     "name": "stdout",
     "output_type": "stream",
     "text": [
      "4177 \n",
      "-------------\n",
      "\n",
      "Sex(M): 1528 \n",
      "Sex(I): 1342 \n",
      "Sex(F): 1307\n"
     ]
    }
   ],
   "source": [
    "data = np.loadtxt(\"data/abalone.data\",\n",
    "           dtype={'names': ('sex', 'length', 'diameter', 'height', 'whole_weight','shucked_weight','viscera_weight','sell_weight','rings'),\n",
    "          'formats': ('S1', np.float, np.float, np.float,np.float,np.float,np.float,np.float,np.int)},\n",
    "           delimiter = ',')\n",
    "size_row = np.shape(data)\n",
    "print(size_row[0],'\\n-------------\\n')\n",
    "countM = 0\n",
    "countF= 0\n",
    "countI = 0\n",
    "for i in range(size_row[0]):\n",
    "    if(data[i][0]== b'M'): countM  =countM + 1\n",
    "    elif(data[i][0]==b'F'): countF = countF +1\n",
    "    else: countI = countI+1\n",
    "print('Sex(M):', countM,'\\nSex(I):', countI,'\\nSex(F):', countF)"
   ]
  },
  {
   "cell_type": "code",
   "execution_count": 239,
   "metadata": {},
   "outputs": [
    {
     "ename": "SyntaxError",
     "evalue": "invalid syntax (<ipython-input-239-f52cccea78f8>, line 4)",
     "output_type": "error",
     "traceback": [
      "\u001b[1;36m  File \u001b[1;32m\"<ipython-input-239-f52cccea78f8>\"\u001b[1;36m, line \u001b[1;32m4\u001b[0m\n\u001b[1;33m    yield {np.array(data[num][0],data[num][1],data[num][2],,data[num][3],data[num][4],,data[num][5],,data[num][6],,data[num][7]),np.int32(data[num][8])}\u001b[0m\n\u001b[1;37m                                                           ^\u001b[0m\n\u001b[1;31mSyntaxError\u001b[0m\u001b[1;31m:\u001b[0m invalid syntax\n"
     ]
    }
   ],
   "source": [
    "def func(n):\n",
    "    num =0\n",
    "    while num<n:\n",
    "        yield {np.array(data[num][0],data[num][1],data[num][2],data[num][3],data[num][4],data[num][5],data[num][6],data[num][7]),np.int32(data[num][8])}\n",
    "        num +=1"
   ]
  },
  {
   "cell_type": "code",
   "execution_count": null,
   "metadata": {
    "collapsed": true
   },
   "outputs": [],
   "source": []
  }
 ],
 "metadata": {
  "kernelspec": {
   "display_name": "Python 3",
   "language": "python",
   "name": "python3"
  },
  "language_info": {
   "codemirror_mode": {
    "name": "ipython",
    "version": 3
   },
   "file_extension": ".py",
   "mimetype": "text/x-python",
   "name": "python",
   "nbconvert_exporter": "python",
   "pygments_lexer": "ipython3",
   "version": "3.6.2"
  }
 },
 "nbformat": 4,
 "nbformat_minor": 2
}
