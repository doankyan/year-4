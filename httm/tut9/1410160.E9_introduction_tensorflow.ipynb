{
 "cells": [
  {
   "cell_type": "markdown",
   "metadata": {},
   "source": [
    "# Giới thiệu Tensorflow"
   ]
  },
  {
   "cell_type": "markdown",
   "metadata": {},
   "source": [
    "References: \n",
    "\n",
    "* https://www.tensorflow.org/\n",
    "* https://www.datacamp.com/community/tutorials/tensorflow-tutorial\n",
    "\n",
    "TensorFlow is a general-purpose system for graph-based computation.\n",
    "\n",
    "TensorFlow gets its name from tensors, which are arrays of arbitrary dimensionality. A vector is a 1-d array and is known as a 1st-order tensor. A matrix is a 2-d array and a 2nd-order tensor. The \"flow\" part of the name refers to computation flowing through a graph. Training and inference in a neural network, for example, involves the propagation of matrix computations through many nodes in a computational graph.\n",
    "\n",
    "When you think of doing things in TensorFlow, you might want to think of creating tensors (like matrices), adding operations (that output other tensors), and then executing the computation (running the computational graph). In particular, it's important to realize that when you add an operation on tensors, **it doesn't execute immediately**. Rather, TensorFlow waits for you to define all the operations you want to perform. Then, TensorFlow optimizes the computation graph, deciding how to execute the computation, before generating the data. Because of this, a tensor in TensorFlow isn't so much holding the data as a placeholder for holding the data, waiting for the data to arrive when a computation is executed.\""
   ]
  },
  {
   "cell_type": "code",
   "execution_count": 18,
   "metadata": {
    "collapsed": true
   },
   "outputs": [],
   "source": [
    "from __future__ import print_function\n",
    "\n",
    "import numpy as np\n",
    "import tensorflow as tf\n",
    "import time"
   ]
  },
  {
   "cell_type": "markdown",
   "metadata": {},
   "source": [
    "Add two vectors"
   ]
  },
  {
   "cell_type": "code",
   "execution_count": 19,
   "metadata": {},
   "outputs": [
    {
     "name": "stdout",
     "output_type": "stream",
     "text": [
      "output: Tensor(\"Add_2:0\", shape=(4,), dtype=float32)\n",
      "result:  [ 3.  3.  3.  3.]\n"
     ]
    }
   ],
   "source": [
    "with tf.Session():\n",
    "    input1 = tf.constant([1.0, 1.0, 1.0, 1.0])\n",
    "    input2 = tf.constant([2.0, 2.0, 2.0, 2.0])\n",
    "    output = tf.add(input1, input2)\n",
    "    print('output:', output)\n",
    "    result = output.eval()\n",
    "    print(\"result: \", result)"
   ]
  },
  {
   "cell_type": "code",
   "execution_count": 22,
   "metadata": {},
   "outputs": [
    {
     "name": "stdout",
     "output_type": "stream",
     "text": [
      "[3.0, 3.0, 3.0, 3.0]\n"
     ]
    }
   ],
   "source": [
    "print([x + y for x, y in zip([1.0] * 4, [2.0] * 4)])"
   ]
  },
  {
   "cell_type": "code",
   "execution_count": 23,
   "metadata": {},
   "outputs": [
    {
     "name": "stdout",
     "output_type": "stream",
     "text": [
      "[ 1.  1.  1.  1.] + [ 2.  2.  2.  2.] = [ 3.  3.  3.  3.]\n"
     ]
    }
   ],
   "source": [
    "x, y = np.full(4, 1.0), np.full(4, 2.0)\n",
    "print(\"{} + {} = {}\".format(x, y, x + y))"
   ]
  },
  {
   "cell_type": "markdown",
   "metadata": {},
   "source": [
    "Broadcast multiply"
   ]
  },
  {
   "cell_type": "code",
   "execution_count": 31,
   "metadata": {},
   "outputs": [
    {
     "name": "stdout",
     "output_type": "stream",
     "text": [
      "Tensor(\"Mul_16:0\", shape=(4,), dtype=int32)\n"
     ]
    }
   ],
   "source": [
    "x1 = tf.constant([1,2,3,4])\n",
    "x2 = tf.constant([5,6,7,8])\n",
    "\n",
    "# Multiply\n",
    "result = tf.multiply(x1, x2)\n",
    "print(result)\n",
    "# TODO student add code to see result value"
   ]
  },
  {
   "cell_type": "markdown",
   "metadata": {},
   "source": [
    "Many operators"
   ]
  },
  {
   "cell_type": "code",
   "execution_count": 37,
   "metadata": {},
   "outputs": [
    {
     "name": "stdout",
     "output_type": "stream",
     "text": [
      "[ 6.  6.  6.  6.]\n"
     ]
    }
   ],
   "source": [
    "with tf.Session():\n",
    "    input1 = tf.constant(1.0, shape=[4])\n",
    "    input2 = tf.constant(2.0, shape=[4])\n",
    "    input3 = tf.constant(3.0, shape=[4])\n",
    "    output = tf.add(tf.add(input1, input2), input3)\n",
    "    result = output.eval()\n",
    "    print(result)"
   ]
  },
  {
   "cell_type": "markdown",
   "metadata": {},
   "source": [
    "Override operator"
   ]
  },
  {
   "cell_type": "code",
   "execution_count": 35,
   "metadata": {},
   "outputs": [
    {
     "name": "stdout",
     "output_type": "stream",
     "text": [
      "[ 3.  3.  3.  3.]\n"
     ]
    }
   ],
   "source": [
    "with tf.Session():\n",
    "    input1 = tf.constant(1.0, shape=[4])\n",
    "    input2 = tf.constant(2.0, shape=[4])\n",
    "    output = input1 + input2\n",
    "    print(output.eval())"
   ]
  },
  {
   "cell_type": "markdown",
   "metadata": {},
   "source": [
    "Ngoài eval(), chúng ta thường dùng session.run() để thực hiện việc tính toán các giá trị của tensor, với tensor *output* ở trên chúng ta có thể tính giá trị như dưới."
   ]
  },
  {
   "cell_type": "code",
   "execution_count": 38,
   "metadata": {},
   "outputs": [
    {
     "name": "stdout",
     "output_type": "stream",
     "text": [
      "[ 6.  6.  6.  6.]\n"
     ]
    }
   ],
   "source": [
    "with tf.Session() as sess:\n",
    "    result = sess.run(output)\n",
    "    print(result)"
   ]
  },
  {
   "cell_type": "code",
   "execution_count": 39,
   "metadata": {},
   "outputs": [
    {
     "name": "stdout",
     "output_type": "stream",
     "text": [
      "Input:\n",
      "[[ 1.  0.  0.  1.]]\n",
      "Weights:\n",
      "[[-0.47019872  0.71016526]\n",
      " [ 0.0022694  -0.12541802]\n",
      " [ 0.41656488  0.72025007]\n",
      " [ 0.78675419 -1.37740159]]\n",
      "Output:\n",
      "[[ 0.31655547 -0.66723633]]\n"
     ]
    }
   ],
   "source": [
    "with tf.Session():\n",
    "    input_features = tf.constant(np.reshape([1, 0, 0, 1], (1, 4)).astype(np.float32))\n",
    "    weights = tf.constant(np.random.randn(4, 2).astype(np.float32))\n",
    "    output = tf.matmul(input_features, weights)\n",
    "    print(\"Input:\")\n",
    "    print(input_features.eval())\n",
    "    print(\"Weights:\")\n",
    "    print(weights.eval())\n",
    "    print(\"Output:\")\n",
    "    print(output.eval())"
   ]
  },
  {
   "cell_type": "markdown",
   "metadata": {},
   "source": [
    "**Làm quen với khái niệm**:\n",
    "\n",
    "Sinh viên đọc và chú ý phân biệt ý nghĩa sử dụng của chúng:\n",
    "\n",
    "* https://www.tensorflow.org/api_docs/python/tf/placeholder\n",
    "\n",
    "* https://www.tensorflow.org/api_docs/python/tf/Variable"
   ]
  },
  {
   "cell_type": "markdown",
   "metadata": {},
   "source": [
    "Placeholder example"
   ]
  },
  {
   "cell_type": "code",
   "execution_count": null,
   "metadata": {
    "collapsed": true
   },
   "outputs": [],
   "source": [
    "x = tf.placeholder(tf.float32, shape=(1024, 1024))\n",
    "y = tf.matmul(x, x)\n",
    "\n",
    "with tf.Session() as sess:\n",
    "  print(sess.run(y))  # ERROR: will fail because x was not fed.\n",
    "\n",
    "  rand_array = np.random.rand(1024, 1024)\n",
    "  print(sess.run(y, feed_dict={x: rand_array}))  # Will succeed."
   ]
  },
  {
   "cell_type": "markdown",
   "metadata": {},
   "source": [
    "Variables: https://www.tensorflow.org/programmers_guide/variables"
   ]
  },
  {
   "cell_type": "code",
   "execution_count": null,
   "metadata": {
    "collapsed": true
   },
   "outputs": [],
   "source": [
    "# run this 2 times may cause error: Variable v already exists\n",
    "with tf.Session() as sess:\n",
    "    v = tf.get_variable(\"v\", shape=(), initializer=tf.zeros_initializer())\n",
    "    assignment = v.assign_add(1)\n",
    "    tf.global_variables_initializer().run()\n",
    "    print(assignment.eval())"
   ]
  },
  {
   "cell_type": "code",
   "execution_count": null,
   "metadata": {
    "collapsed": true
   },
   "outputs": [],
   "source": [
    "#@test {\"output\": \"ignore\"}\n",
    "import tensorflow as tf\n",
    "import numpy as np\n",
    "\n",
    "with tf.Session() as sess:\n",
    "    # Set up two variables, total and weights, that we'll change repeatedly.\n",
    "    total = tf.Variable(tf.zeros([1, 2]))\n",
    "    weights = tf.Variable(tf.random_uniform([1,2]))\n",
    "\n",
    "    # Initialize the variables we defined above.\n",
    "    tf.global_variables_initializer().run()\n",
    "\n",
    "    # This only adds the operators to the graph right now. The assignment\n",
    "    # and addition operations are not performed yet.\n",
    "    update_weights = tf.assign(weights, tf.random_uniform([1, 2], -1.0, 1.0))\n",
    "    update_total = tf.assign(total, tf.add(total, weights))\n",
    "  \n",
    "    for _ in range(5):\n",
    "        # Actually run the operation graph, so randomly generate weights and then\n",
    "        # add them into the total. Order does matter here. We need to update\n",
    "        # the weights before updating the total.\n",
    "        sess.run(update_weights)\n",
    "        sess.run(update_total)\n",
    "    \n",
    "        print(weights.eval(), total.eval())"
   ]
  },
  {
   "cell_type": "markdown",
   "metadata": {},
   "source": [
    "Linear Regression Example from: [aymericdamien](https://github.com/aymericdamien/TensorFlow-Examples/blob/master/notebooks/2_BasicModels/linear_regression.ipynb)"
   ]
  },
  {
   "cell_type": "code",
   "execution_count": null,
   "metadata": {
    "collapsed": true
   },
   "outputs": [],
   "source": [
    "import tensorflow as tf\n",
    "import numpy\n",
    "import matplotlib.pyplot as plt\n",
    "rng = numpy.random"
   ]
  },
  {
   "cell_type": "code",
   "execution_count": null,
   "metadata": {
    "collapsed": true
   },
   "outputs": [],
   "source": [
    "# Parameters\n",
    "learning_rate = 0.01\n",
    "training_epochs = 1000\n",
    "display_step = 50"
   ]
  },
  {
   "cell_type": "code",
   "execution_count": null,
   "metadata": {
    "collapsed": true
   },
   "outputs": [],
   "source": [
    "# Training Data\n",
    "train_X = numpy.asarray([3.3,4.4,5.5,6.71,6.93,4.168,9.779,6.182,7.59,2.167,\n",
    "                         7.042,10.791,5.313,7.997,5.654,9.27,3.1])\n",
    "train_Y = numpy.asarray([1.7,2.76,2.09,3.19,1.694,1.573,3.366,2.596,2.53,1.221,\n",
    "                         2.827,3.465,1.65,2.904,2.42,2.94,1.3])\n",
    "n_samples = train_X.shape[0]"
   ]
  },
  {
   "cell_type": "code",
   "execution_count": null,
   "metadata": {
    "collapsed": true
   },
   "outputs": [],
   "source": [
    "# tf Graph Input\n",
    "X = tf.placeholder(\"float\")\n",
    "Y = tf.placeholder(\"float\")\n",
    "\n",
    "# Set model weights\n",
    "W = tf.Variable(rng.randn(), name=\"weight\")\n",
    "b = tf.Variable(rng.randn(), name=\"bias\")"
   ]
  },
  {
   "cell_type": "code",
   "execution_count": null,
   "metadata": {
    "collapsed": true
   },
   "outputs": [],
   "source": [
    "# Construct a linear model\n",
    "pred = tf.add(tf.multiply(X, W), b)"
   ]
  },
  {
   "cell_type": "code",
   "execution_count": null,
   "metadata": {
    "collapsed": true
   },
   "outputs": [],
   "source": [
    "# Mean squared error\n",
    "cost = tf.reduce_sum(tf.pow(pred-Y, 2))/(2*n_samples)\n",
    "# Gradient descent\n",
    "optimizer = tf.train.GradientDescentOptimizer(learning_rate).minimize(cost)"
   ]
  },
  {
   "cell_type": "code",
   "execution_count": null,
   "metadata": {
    "collapsed": true
   },
   "outputs": [],
   "source": [
    "# Initialize the variables (i.e. assign their default value)\n",
    "init = tf.global_variables_initializer()"
   ]
  },
  {
   "cell_type": "code",
   "execution_count": null,
   "metadata": {
    "collapsed": true
   },
   "outputs": [],
   "source": [
    "# Start training\n",
    "with tf.Session() as sess:\n",
    "    sess.run(init)\n",
    "\n",
    "    # Fit all training data\n",
    "    for epoch in range(training_epochs):\n",
    "        for (x, y) in zip(train_X, train_Y):\n",
    "            sess.run(optimizer, feed_dict={X: x, Y: y})\n",
    "\n",
    "        #Display logs per epoch step\n",
    "        if (epoch+1) % display_step == 0:\n",
    "            c = sess.run(cost, feed_dict={X: train_X, Y:train_Y})\n",
    "            print (\"Epoch:\", '%04d' % (epoch+1), \"cost=\", \"{:.9f}\".format(c), \n",
    "                \"W=\", sess.run(W), \"b=\", sess.run(b))\n",
    "\n",
    "    print (\"Optimization Finished!\")\n",
    "    training_cost = sess.run(cost, feed_dict={X: train_X, Y: train_Y})\n",
    "    print (\"Training cost=\", training_cost, \"W=\", sess.run(W), \"b=\", sess.run(b), '\\n')\n",
    "\n",
    "    #Graphic display\n",
    "    plt.plot(train_X, train_Y, 'ro', label='Original data')\n",
    "    plt.plot(train_X, sess.run(W) * train_X + sess.run(b), label='Fitted line')\n",
    "    plt.legend()\n",
    "    plt.show()"
   ]
  },
  {
   "cell_type": "markdown",
   "metadata": {},
   "source": [
    "**Tensorflow arithmetic operators**\n",
    "\n",
    "https://www.tensorflow.org/api_guides/python/math_ops#Arithmetic_Operators"
   ]
  },
  {
   "cell_type": "markdown",
   "metadata": {},
   "source": [
    "## Bài tập\n",
    "\n",
    "Bài nộp của sinh viên là chính là **file này** sau khi được đổi tên thành **MSSV.E9_introduction_numpy.ipynb** và đừng quên ghi thông tin sinh viên vào các ô ở dưới.\n",
    "\n",
    "Địa chỉ nộp bài: https://www.dropbox.com/request/h084jC1ZUTkUm5gosR6l\n",
    "\n",
    "Deadline nộp bài: **10:00 thứ 2 tuần tiếp theo**\n",
    "\n",
    "*Điểm bài này sẽ được tổng hợp với điểm chấm trên lớp (nếu có) để ra điểm cuối cùng*\n",
    "\n",
    "Thông tin sinh viên:"
   ]
  },
  {
   "cell_type": "code",
   "execution_count": 5,
   "metadata": {
    "collapsed": true
   },
   "outputs": [],
   "source": [
    "sid = '1410160'\n",
    "name = 'Doãn Kỳ Ân'\n",
    "\n",
    "import tensorflow as tf\n",
    "import numpy as np\n",
    "import time\n",
    "\n",
    "# sinh viên import các thư viện cần thiết ở đây"
   ]
  },
  {
   "cell_type": "markdown",
   "metadata": {},
   "source": [
    "### Bài 1\n",
    "Trong bài này, sinh viên sẽ tập làm quen với các thao tác cơ bản trên numpy, tensorflow, so sánh, đánh giá đơn giản về tốc độ tính toán"
   ]
  },
  {
   "cell_type": "markdown",
   "metadata": {},
   "source": [
    "a) Sinh viên viết hàm matrix_gen(m, n) để sinh ra ma trận các số thực trong khoảng [0, 1] ngẫu nhiên, output là python array biểu diễn cho ma trận. Sử dụng hàm để sinh ra hai ma trận và lưu vào hai biến tương ứng đã cho để sử dụng cho các câu tiếp theo."
   ]
  },
  {
   "cell_type": "code",
   "execution_count": 6,
   "metadata": {
    "collapsed": true
   },
   "outputs": [],
   "source": [
    "# code sinh viên cho câu a\n",
    "def matrix_gen(m, n):\n",
    "    return np.random.rand(m,n)\n",
    "\n",
    "m, n, k=50, 40, 60\n",
    "matrix_mn = matrix_gen(m, n)\n",
    "matrix_nk = matrix_gen(n, k)"
   ]
  },
  {
   "cell_type": "markdown",
   "metadata": {},
   "source": [
    "b) Hãy viết một hàm py_matrix_mul(matrix_1, matrix_2) để nhân hai ma trận được truyền vào trong đó không sử dụng numpy, tensorflow hay các thư viện khác. (giả sử input đã đúng không cần kiểm tra"
   ]
  },
  {
   "cell_type": "code",
   "execution_count": 8,
   "metadata": {},
   "outputs": [
    {
     "name": "stdout",
     "output_type": "stream",
     "text": [
      "0.1398007994827104 s\n"
     ]
    }
   ],
   "source": [
    "# code câu b của sinh viên\n",
    "def py_matrix_mul(matrix_1, matrix_2):\n",
    "    rows_m1 = len(matrix_1)\n",
    "    cols_m1 = len(matrix_1[0])\n",
    "    rows_m2 = len(matrix_2)\n",
    "    cols_m2 = len(matrix_2[0])\n",
    "    if cols_m1 != rows_m2:\n",
    "        return None\n",
    "    m3 = [[0 for row in range(cols_m2)] for col in range(rows_m1)]\n",
    "    for i in range(rows_m1):\n",
    "        for j in range(cols_m2):\n",
    "            for k in range(cols_m1):\n",
    "                m3[i][j] += matrix_1[i][k] * matrix_2[k][j]\n",
    "    return m3\n",
    "    \n",
    "start_time = time.clock()\n",
    "mt_mul_py = py_matrix_mul(matrix_mn, matrix_nk)\n",
    "print (time.clock() - start_time, \"s\")"
   ]
  },
  {
   "cell_type": "markdown",
   "metadata": {},
   "source": [
    "c) Sử dụng numpy để hiện thực cho bài toán nhân hai ma trận với hai ma trân *matrix_mn* và *matrix_nk*, lưu kết quả cuối cùng vào mt_mul_numpy"
   ]
  },
  {
   "cell_type": "code",
   "execution_count": 9,
   "metadata": {},
   "outputs": [
    {
     "name": "stdout",
     "output_type": "stream",
     "text": [
      "0.0003411174524750038 s\n"
     ]
    }
   ],
   "source": [
    "# code câu c của sinh viên\n",
    "start_time = time.clock()\n",
    "mt_mul_numpy2 = np.matmul(matrix_mn,matrix_nk)\n",
    "print (time.clock() - start_time, \"s\")"
   ]
  },
  {
   "cell_type": "markdown",
   "metadata": {},
   "source": [
    "d) Sử dụng tensorflow để hiện thực cho câu c thay vì dùng numpy"
   ]
  },
  {
   "cell_type": "code",
   "execution_count": 10,
   "metadata": {},
   "outputs": [
    {
     "name": "stdout",
     "output_type": "stream",
     "text": [
      "Tensor(\"MatMul:0\", shape=(50, 60), dtype=float64)\n",
      "0.038846938485960436 s\n"
     ]
    }
   ],
   "source": [
    "# code câu d của sinh viên\n",
    "w1 = tf.constant(matrix_mn)\n",
    "w2 = tf.constant(matrix_nk)\n",
    "with tf.Session() as sess:\n",
    "    start_time = time.clock()\n",
    "    print(tf.matmul(matrix_mn,matrix_nk))\n",
    "    print (time.clock() - start_time, \"s\")"
   ]
  },
  {
   "cell_type": "markdown",
   "metadata": {},
   "source": [
    "e) Với các câu b, c, d, hãy chèn đoạn code để tính thời gian thực thi của mỗi phương pháp và so sánh, đánh giá về mặt thời gian thực thi của các thao tác.\n",
    "\n",
    "Nhận xét của sinh viên: ...Xét tương đối, numpy có thời gian thực thi nhanh nhất, sau đó là dùng tensorflow và cuối cùng là dùng code tự định nghĩa..."
   ]
  },
  {
   "cell_type": "markdown",
   "metadata": {},
   "source": [
    "### Bài 2\n",
    "\n",
    "Cho đoạn code sinh dữ liệu cho hàm f() như bên dưới.\n",
    "Sinh viên hãy chỉnh sửa đoạn code Linear Regression, \n",
    "chọn các tham số phù hợp để ra được kết quả tốt nhất có thể."
   ]
  },
  {
   "cell_type": "code",
   "execution_count": 11,
   "metadata": {},
   "outputs": [
    {
     "name": "stdout",
     "output_type": "stream",
     "text": [
      "x [ 0.33662382  0.44327684  0.81813978  0.10153468  0.46186941  0.57174979\n",
      "  0.82005671  0.89496667  0.34045827  0.44714839  0.64262727  0.01540209\n",
      "  0.74519241  0.02125382  0.18816657  0.09659365  0.30779269  0.91100676\n",
      "  0.81315699  0.00318172  0.21544875  0.40045177  0.38424811  0.00227055\n",
      "  0.88016172  0.55855746  0.13127979  0.21373883  0.79150234  0.8728264\n",
      "  0.73489713  0.12007187  0.36708637  0.36044712  0.05307366  0.43707601\n",
      "  0.36367022  0.96672421  0.64319015  0.84034755  0.8828511   0.63547808\n",
      "  0.35706254  0.330044    0.86711526  0.48871831  0.1699792   0.70112912\n",
      "  0.48678351  0.84823583]\n",
      "y [ 4.84132226  5.23112138  7.05279047  3.70947171  5.22076921  5.98900516\n",
      "  7.24142429  7.54786184  4.72868162  5.27400291  6.32320077  2.8237808\n",
      "  6.70675127  3.24990411  4.10195415  3.51253767  4.52308246  7.4664946\n",
      "  7.10245855  2.95886707  4.09487907  4.95622558  5.06127326  2.9706216\n",
      "  7.32986273  5.74617853  3.70698391  4.01877131  7.11838213  7.29750849\n",
      "  6.70900446  3.61706915  4.79141195  4.79473534  3.18193784  5.17866783\n",
      "  4.86979212  8.06379485  6.26525767  7.08371177  7.42835871  6.27399222\n",
      "  4.84697469  4.75522603  7.42680701  5.41927726  3.8373739   6.47060644\n",
      "  5.36664891  7.42753526]\n"
     ]
    }
   ],
   "source": [
    "def f(x):\n",
    "    return x * 5 + 3\n",
    "\n",
    "llen = 50\n",
    "x = np.random.rand(llen)\n",
    "y = f(x) + np.random.normal(0, 0.1, llen)\n",
    "\n",
    "print('x', x)\n",
    "print('y', y)\n",
    "\n",
    "train_X = x\n",
    "train_Y = y\n",
    "n_samples = train_X.shape[0]"
   ]
  },
  {
   "cell_type": "markdown",
   "metadata": {},
   "source": [
    "*Code sinh viên ở dưới*"
   ]
  },
  {
   "cell_type": "code",
   "execution_count": 21,
   "metadata": {},
   "outputs": [
    {
     "name": "stdout",
     "output_type": "stream",
     "text": [
      "x [ 0.88770667  0.89767841  0.27194767  0.98677757  0.17480492  0.36786598\n",
      "  0.33952929  0.31353668  0.61376222  0.33982875  0.054411    0.05970079\n",
      "  0.72316703  0.91157171  0.64163925  0.32057344  0.48874549  0.34918167\n",
      "  0.48816637  0.78848167  0.14614382  0.47094849  0.37719179  0.76039619\n",
      "  0.19408278  0.03209441  0.80027588  0.57218146  0.11990212  0.8867351\n",
      "  0.0465765   0.01985759  0.85502549  0.17277004  0.30424848  0.01994542\n",
      "  0.40506109  0.79555046  0.91426377  0.34264104  0.05745298  0.33269505\n",
      "  0.3818036   0.61309142  0.88271261  0.46065095  0.93989291  0.05704403\n",
      "  0.04509323  0.0112809 ]\n",
      "y [ 7.43936634  7.53524979  4.311024    8.00768962  3.99175284  4.84304192\n",
      "  4.80363866  4.61738672  6.0175002   4.78982957  3.28971785  3.208383\n",
      "  6.45213332  7.45385897  6.12828828  4.76491629  5.58383667  4.77607845\n",
      "  5.24789199  6.87819371  3.61796291  5.4286672   4.77342622  6.82179351\n",
      "  3.85724322  3.18657543  7.13208259  5.75719759  3.44410325  7.42423087\n",
      "  3.34963239  3.19176228  7.23658644  3.70917774  4.53116629  3.05650478\n",
      "  5.0820351   7.06182097  7.67837319  4.52580123  3.26560593  4.80727191\n",
      "  5.04735861  6.05121185  7.41822529  5.43818304  7.78109873  3.34923757\n",
      "  3.23110196  3.1679146 ]\n",
      "Epoch: 0005 cost= 0.375187755 W= 2.23191 b= 4.29157\n",
      "Epoch: 0010 cost= 0.170689151 W= 3.15172 b= 3.87523\n",
      "Epoch: 0015 cost= 0.079161875 W= 3.7645 b= 3.58967\n",
      "Epoch: 0020 cost= 0.038107153 W= 4.17494 b= 3.39839\n",
      "Epoch: 0025 cost= 0.019693635 W= 4.44985 b= 3.27026\n",
      "Epoch: 0030 cost= 0.011436299 W= 4.63399 b= 3.18445\n",
      "Epoch: 0035 cost= 0.007734105 W= 4.75733 b= 3.12696\n",
      "Epoch: 0040 cost= 0.006074819 W= 4.83994 b= 3.08846\n",
      "Epoch: 0045 cost= 0.005331469 W= 4.89527 b= 3.06267\n",
      "Epoch: 0050 cost= 0.004998719 W= 4.93234 b= 3.0454\n",
      "Optimization Finished!\n",
      "Training cost= 0.00499872 W= 4.93234 b= 3.0454 \n",
      "\n"
     ]
    },
    {
     "data": {
      "image/png": "[encoded data removed]",
      "text/plain": [
       "<matplotlib.figure.Figure at 0x1835d32d5f8>"
      ]
     },
     "metadata": {},
     "output_type": "display_data"
    }
   ],
   "source": [
    "# TODO\n",
    "import tensorflow as tf\n",
    "import numpy\n",
    "import matplotlib.pyplot as plt\n",
    "rng = numpy.random\n",
    "def f(x):\n",
    "    return x * 5 + 3\n",
    "\n",
    "llen = 50\n",
    "x = np.random.rand(llen)\n",
    "y = f(x) + np.random.normal(0, 0.1, llen)\n",
    "print('x', x)\n",
    "print('y', y)\n",
    "train_X = x\n",
    "train_Y = y\n",
    "n_samples = train_X.shape[0]\n",
    "learning_rate = 1\n",
    "training_epochs = 50\n",
    "display_step = 5\n",
    "\n",
    "# tf Graph Input\n",
    "X = tf.placeholder(\"float\")\n",
    "Y = tf.placeholder(\"float\")\n",
    "\n",
    "# Set model weights\n",
    "W = tf.Variable(rng.randn(), name=\"weight\")\n",
    "b = tf.Variable(rng.randn(), name=\"bias\")\n",
    "\n",
    "#Construct a linear model\n",
    "pred = tf.add(tf.multiply(X, W), b)\n",
    "\n",
    "# Mean squared error\n",
    "cost = tf.reduce_sum(tf.pow(pred-Y, 2))/(2*n_samples)\n",
    "# Gradient descent\n",
    "optimizer = tf.train.GradientDescentOptimizer(learning_rate).minimize(cost)\n",
    "\n",
    "# Initialize the variables (i.e. assign their default value)\n",
    "init = tf.global_variables_initializer()\n",
    "\n",
    "# Start training\n",
    "with tf.Session() as sess:\n",
    "    sess.run(init)\n",
    "\n",
    "    # Fit all training data\n",
    "    for epoch in range(training_epochs):\n",
    "        for (x, y) in zip(train_X, train_Y):\n",
    "            sess.run(optimizer, feed_dict={X: x, Y: y})\n",
    "\n",
    "        #Display logs per epoch step\n",
    "        if (epoch+1) % display_step == 0:\n",
    "            c = sess.run(cost, feed_dict={X: train_X, Y:train_Y})\n",
    "            print (\"Epoch:\", '%04d' % (epoch+1), \"cost=\", \"{:.9f}\".format(c), \n",
    "                \"W=\", sess.run(W), \"b=\", sess.run(b))\n",
    "\n",
    "    print (\"Optimization Finished!\")\n",
    "    training_cost = sess.run(cost, feed_dict={X: train_X, Y: train_Y})\n",
    "    print (\"Training cost=\", training_cost, \"W=\", sess.run(W), \"b=\", sess.run(b), '\\n')\n",
    "\n",
    "    #Graphic display\n",
    "    plt.plot(train_X, train_Y, 'ro', label='Original data')\n",
    "    plt.plot(train_X, sess.run(W) * train_X + sess.run(b), label='Fitted line')\n",
    "    plt.legend()\n",
    "    plt.show()\n"
   ]
  },
  {
   "cell_type": "markdown",
   "metadata": {},
   "source": [
    "*Những nhận xét đánh giá của sinh viên*:\n",
    "    Việc chọn hệ số học learning-rate phù hợp ảnh hưởng quan trọng đến việc training.\n",
    "...............................................................................\n",
    "\n",
    "..............................................................................."
   ]
  }
 ],
 "metadata": {
  "kernelspec": {
   "display_name": "Python 3",
   "language": "python",
   "name": "python3"
  },
  "language_info": {
   "codemirror_mode": {
    "name": "ipython",
    "version": 3
   },
   "file_extension": ".py",
   "mimetype": "text/x-python",
   "name": "python",
   "nbconvert_exporter": "python",
   "pygments_lexer": "ipython3",
   "version": "3.5.4"
  }
 },
 "nbformat": 4,
 "nbformat_minor": 2
}
