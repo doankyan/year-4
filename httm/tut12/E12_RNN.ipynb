{
 "cells": [
  {
   "cell_type": "markdown",
   "metadata": {},
   "source": [
    "# RNN\n",
    "\n",
    "Trong bài này chúng ta sẽ làm quen với RNN và làm việc với Estimator trên Tensorflow.\n",
    "\n",
    "Sinh viên sinh viên phải cập nhật Tensorflow lên bản mới nhất 1.4 để thực thi được một số đoạn code mẫu.\n",
    "\n",
    "Bài tập được biên soạn từ có tham khảo ở các nguồn sau đây có chỉnh sửa:\n",
    "\n",
    "[aymericdamien](https://github.com/aymericdamien/TensorFlow-Examples/blob/master/examples/3_NeuralNetworks/recurrent_network.py)\n",
    "\n",
    "[tensorflow example](https://github.com/tensorflow/tensorflow/blob/master/tensorflow/examples/learn/mnist.py)\n",
    "\n",
    "Dữ liệu dữ liệu được sử dụng trong bài tập này là dữ liệu MNIST đã quen thuộc ở các bài trước."
   ]
  },
  {
   "cell_type": "code",
   "execution_count": null,
   "metadata": {
    "collapsed": true
   },
   "outputs": [],
   "source": [
    "from __future__ import print_function\n",
    "\n",
    "import numpy as np\n",
    "import tensorflow as tf\n",
    "from tensorflow.contrib import rnn"
   ]
  },
  {
   "cell_type": "markdown",
   "metadata": {},
   "source": [
    "Các tham số cần thiết"
   ]
  },
  {
   "cell_type": "code",
   "execution_count": null,
   "metadata": {
    "collapsed": true
   },
   "outputs": [],
   "source": [
    "# Training Parameters\n",
    "params = {\n",
    "    'learning_rate': 0.001,\n",
    "    'training_steps': 20000,\n",
    "    'batch_size': 128,\n",
    "    'display_step': 100,\n",
    "\n",
    "    # Network Parameters\n",
    "    'num_input': 28,  # MNIST data input (img shape: 28*28)\n",
    "    'timesteps': 28,  # timesteps\n",
    "    'num_hidden': 128,  # hidden layer num of features\n",
    "    'num_classes': 10  # MNIST total classes (0-9 digits)\n",
    "}"
   ]
  },
  {
   "cell_type": "markdown",
   "metadata": {},
   "source": [
    "Ở đây, chúng ta làm quen với Estimator \"High level tools for working with models\".\n",
    "\n",
    "Chúng ta sẽ tách rời estimator spec và model, với mỗi bài toán xác định thì spec gần như không đổi, do đó chúng ta có thể  **tái sử dụng cho nhiều model khác nhau**.\n",
    "\n",
    "Spec này được sử dụng cho bài toán MNIST ở bên dưới, tùy theo mode (training, evaluation, predict) mà một số tham số sẽ bị bỏ qua. \n",
    "\n",
    "Chúng ta có thể tận dụng nó ở các bước training, evaluation và test."
   ]
  },
  {
   "cell_type": "code",
   "execution_count": null,
   "metadata": {
    "collapsed": true
   },
   "outputs": [],
   "source": [
    "def estimator_spec(logits, labels, mode, params):\n",
    "    loss, train_op, predictions = None, None, None\n",
    "    if mode == tf.estimator.ModeKeys.TRAIN or mode == tf.estimator.ModeKeys.EVAL:\n",
    "        onehot_labels = tf.one_hot(labels, params['num_classes'], 1, 0)\n",
    "        loss = tf.reduce_mean(tf.nn.softmax_cross_entropy_with_logits(logits=logits, labels=onehot_labels))\n",
    "\n",
    "    if mode == tf.estimator.ModeKeys.TRAIN:\n",
    "        optimizer = tf.train.GradientDescentOptimizer(learning_rate=params['learning_rate'])\n",
    "        train_op = optimizer.minimize(loss, global_step=tf.train.get_global_step())\n",
    "\n",
    "    if mode == tf.estimator.ModeKeys.PREDICT:\n",
    "        predictions = {'prediction': tf.argmax(logits, 1),\n",
    "                       'prob': tf.nn.softmax(logits)}\n",
    "    eval_metric_ops = {'accuracy': tf.metrics.accuracy(labels=labels, predictions=tf.argmax(logits, 1))}\n",
    "    return tf.estimator.EstimatorSpec(\n",
    "        mode=mode,\n",
    "        predictions=predictions,\n",
    "        loss=loss,\n",
    "        train_op=train_op,\n",
    "        eval_metric_ops=eval_metric_ops)"
   ]
  },
  {
   "cell_type": "markdown",
   "metadata": {},
   "source": [
    "Phía phía dưới là model, chúng ta định nghĩa một hàm 1 model_fn để chuyển vào estimator sẽ gọi lại sau.\n",
    "\n",
    "Hàm này nhận các tham số theo đặc tả **chú ý thứ tự** tham số:\n",
    "\n",
    "- *features* sẽ nhớ các thông tin về  input.\n",
    "- *labels* các nhãn (0..9) tương ứng với giá trị đúng của bức hình đó.\n",
    "- mode tham khảo thêm\n",
    "- *params* các tham số chúng ta đưa thêm vào theo cấu hình ở trên\n",
    "\n",
    "*Dữ liệu đưa vào đây sẽ ở dạng batch*\n",
    "\n",
    "Hàm sẽ trả về 1 estimator spec như đã được định nghĩa ở phần trước trên."
   ]
  },
  {
   "cell_type": "code",
   "execution_count": null,
   "metadata": {
    "collapsed": true
   },
   "outputs": [],
   "source": [
    "def model_fn(features, labels, mode, params):\n",
    "    '''\n",
    "    To classify images using a recurrent neural network, we consider every image\n",
    "    row as a sequence of pixels. Because MNIST image shape is 28*28px, we will then\n",
    "    handle 28 sequences of 28 steps for every sample.\n",
    "    '''\n",
    "\n",
    "    x = tf.reshape(features['x'], [-1, params['timesteps'], params['num_input']])\n",
    "    # Unstack to get a list of 'timesteps' tensors of shape (batch_size, n_input)\n",
    "    x = tf.unstack(x, params['timesteps'], 1)\n",
    "\n",
    "    # Define a lstm cell with tensorflow\n",
    "    lstm_cell = rnn.BasicLSTMCell(params['num_hidden'], forget_bias=1.0)\n",
    "\n",
    "    # Get lstm cell output\n",
    "    outputs, states = rnn.static_rnn(lstm_cell, x, dtype=tf.float32)\n",
    "    # outputs, states = tf.nn.dynamic_rnn(lstm_cell, x, dtype=tf.float32)\n",
    "\n",
    "    # Linear activation, using rnn inner loop last output\n",
    "    logits = tf.layers.dense(states[-1], units=params['num_classes'])\n",
    "    return estimator_spec(logits=logits, labels=labels, mode=mode, params=params)"
   ]
  },
  {
   "cell_type": "code",
   "execution_count": null,
   "metadata": {
    "collapsed": true
   },
   "outputs": [],
   "source": [
    "def main(args=None):\n",
    "    run_config = tf.estimator.RunConfig()\n",
    "    # run_config = run_config.replace(**{'save_checkpoints_steps': 100, 'keep_checkpoint_max': 20})\n",
    "    classifier = tf.estimator.Estimator(model_fn=model_fn,\n",
    "                                        model_dir='./checkpoint',\n",
    "                                        params=params,\n",
    "                                        config=run_config)\n",
    "\n",
    "    # make data\n",
    "    mnist = tf.contrib.learn.datasets.DATASETS['mnist']('/tmp/mnist')\n",
    "    \n",
    "    train_input_fn = tf.estimator.inputs.numpy_input_fn(\n",
    "        x={'x': mnist.train.images},\n",
    "        y=mnist.train.labels.astype(np.int32),\n",
    "        batch_size=params['batch_size'],\n",
    "        num_epochs=None,\n",
    "        shuffle=True)\n",
    "\n",
    "    eval_input_fn = tf.estimator.inputs.numpy_input_fn(\n",
    "        x={'x': mnist.train.images},\n",
    "        y=mnist.train.labels.astype(np.int32),\n",
    "        num_epochs=1,\n",
    "        shuffle=False)\n",
    "\n",
    "    # classifier.train(input_fn=train_input_fn, steps=params['training_steps'], hooks=[])\n",
    "\n",
    "    train_spec = tf.estimator.TrainSpec(input_fn=train_input_fn, max_steps=params['training_steps'])\n",
    "    eval_spec = tf.estimator.EvalSpec(input_fn=eval_input_fn)\n",
    "    tf.estimator.train_and_evaluate(classifier, train_spec, eval_spec)\n",
    "    score = classifier.evaluate(eval_input_fn, steps=1)\n",
    "    print(score)"
   ]
  },
  {
   "cell_type": "code",
   "execution_count": null,
   "metadata": {
    "collapsed": true
   },
   "outputs": [],
   "source": [
    "if __name__ == '__main__':\n",
    "    main(None)"
   ]
  },
  {
   "cell_type": "markdown",
   "metadata": {
    "collapsed": true
   },
   "source": [
    "## Bài tập\n",
    "\n",
    "Bài nộp của sinh viên là chính là **file này** sau khi được đổi tên thành **MSSV.E12_RNN.ipynb** và đừng quên ghi thông tin sinh viên vào các ô ở dưới.\n",
    "\n",
    "Địa chỉ nộp bài: https://www.dropbox.com/request/JJaAIeWgznaERPzV74fO\n",
    "\n",
    "Deadline nộp bài: **10:00 thứ 2 tuần tiếp theo**\n",
    "\n",
    "**Quy tắc chấm điểm (áp dụng từ bài này tới các bài sau nếu không có chú thích gì thêm)**\n",
    "- *Điểm bài này sẽ được tổng hợp với điểm chấm trên lớp (nếu có) để ra điểm cuối cùng, do đó sinh viên vắng học trên lớp dù làm bài có toàn vẹn cũng có thể nhận được điểm thấp hơn điểm tối đa*\n",
    "\n",
    "\n",
    "Thông tin sinh viên:"
   ]
  },
  {
   "cell_type": "code",
   "execution_count": null,
   "metadata": {
    "collapsed": true
   },
   "outputs": [],
   "source": [
    "sid = 'MSSV'\n",
    "name = 'Tên Bạn'\n",
    "\n",
    "import tensorflow as tf\n",
    "import numpy as np\n",
    "\n",
    "# sinh viên import các thư viện cần thiết ở đây"
   ]
  },
  {
   "cell_type": "markdown",
   "metadata": {},
   "source": [
    "\n",
    "Hãy vào thư mục code hiện tại, bạn sẽ thấy một thư mục có tên là *checkpoint*, dùng **tensorboard** để mở và xem những thông tin summary hữu ích trong quá trình training. Hãy chụp một ảnh và chèn vào đây.\n",
    "\n",
    "\n",
    "** Chèn hình tensorboard **\n",
    "\n",
    "Điều chỉnh tham số phù hợp để evaluate sau mỗi 1000 steps (hiện tại là sau mỗi 600 giây)\n",
    "\n",
    "Thay vì dùng giá trị learning rate cố định như code mẫu, hãy sử dụng tf.train.exponential_decay để điều chỉnh learning rate theo giá trị khởi đầu mong muốn và giảm phù hợp theo [get_global_step](https://www.tensorflow.org/api_docs/python/tf/train/get_global_step)\n",
    "\n",
    "Thêm learning rate đã điều chỉnh ở trên vào tensorboard summary để dễ dàng theo dõi (điều chỉnh code ở trên)\n",
    "\n",
    "\n",
    "Một trong những vấn đề của DL là overfitting, để phần nào giải quyết vấn đề đó, người ta thường dùng regularization và/hoặc dropout [tham khảo thêm](https://www.quora.com/How-does-the-dropout-method-work-in-deep-learning-And-why-is-it-claimed-to-be-an-effective-trick-to-improve-your-network). Hãy thêm dropout cho RNN cell sử dụng ở trên và l2_regularizer cho densely-connected layer.\n",
    "\n",
    "Hiện model chúng ta sử dụng BasicLSTMCell, và cho kết quả chưa đủ tốt (so với bài trước các em đã làm dùng CNN), hãy thử một số loại RNN cell khác nhau xem có cải thiện gì không. Tham khảo [RNN](https://www.tensorflow.org/versions/master/api_docs/python/tf/contrib/rnn)\n",
    "**Mỗi cách sử dụng, model khác nhau, sinh viên hãy tạo một hàm khác và truyền hàm đó vào ở hàm main, KHÔNG ghi đè model_fn cũ đã có**\n",
    "\n",
    "Điều chỉnh model theo ý muốn để lấy được kết quả tốt nhất có thể, một số gợi ý có thể tham khảo:\n",
    "- sử dụng [bidirectional recurrent neural network](https://www.tensorflow.org/api_docs/python/tf/nn/bidirectional_dynamic_rnn)\n",
    "- thay đổi các lớp (nhiều lớp hơn chẳng hạn)\n",
    "\n",
    "Hãy report (lưu **output** kết quả cuối cùng) em có thể đạt được. *Hai lần chạy khác nhau của cùng một model có thể ra kết quả sai khác nhau đôi chút, tuy nhiên, ở đây, chỉ xem xét kết quả cuối cùng mà các em lưu lại ở output*"
   ]
  },
  {
   "cell_type": "code",
   "execution_count": null,
   "metadata": {
    "collapsed": true
   },
   "outputs": [],
   "source": []
  }
 ],
 "metadata": {
  "kernelspec": {
   "display_name": "Python 3",
   "language": "python",
   "name": "python3"
  },
  "language_info": {
   "codemirror_mode": {
    "name": "ipython",
    "version": 3
   },
   "file_extension": ".py",
   "mimetype": "text/x-python",
   "name": "python",
   "nbconvert_exporter": "python",
   "pygments_lexer": "ipython3",
   "version": "3.5.4"
  }
 },
 "nbformat": 4,
 "nbformat_minor": 2
}
