{
 "cells": [
  {
   "cell_type": "markdown",
   "metadata": {},
   "source": [
    "# Giới thiệu Tensorflow"
   ]
  },
  {
   "cell_type": "markdown",
   "metadata": {},
   "source": [
    "References: \n",
    "\n",
    "* https://www.tensorflow.org/\n",
    "* https://www.datacamp.com/community/tutorials/tensorflow-tutorial\n",
    "\n",
    "TensorFlow is a general-purpose system for graph-based computation.\n",
    "\n",
    "TensorFlow gets its name from tensors, which are arrays of arbitrary dimensionality. A vector is a 1-d array and is known as a 1st-order tensor. A matrix is a 2-d array and a 2nd-order tensor. The \"flow\" part of the name refers to computation flowing through a graph. Training and inference in a neural network, for example, involves the propagation of matrix computations through many nodes in a computational graph.\n",
    "\n",
    "When you think of doing things in TensorFlow, you might want to think of creating tensors (like matrices), adding operations (that output other tensors), and then executing the computation (running the computational graph). In particular, it's important to realize that when you add an operation on tensors, **it doesn't execute immediately**. Rather, TensorFlow waits for you to define all the operations you want to perform. Then, TensorFlow optimizes the computation graph, deciding how to execute the computation, before generating the data. Because of this, a tensor in TensorFlow isn't so much holding the data as a placeholder for holding the data, waiting for the data to arrive when a computation is executed.\""
   ]
  },
  {
   "cell_type": "code",
   "execution_count": 18,
   "metadata": {
    "collapsed": true
   },
   "outputs": [],
   "source": [
    "from __future__ import print_function\n",
    "\n",
    "import numpy as np\n",
    "import tensorflow as tf\n",
    "import time"
   ]
  },
  {
   "cell_type": "markdown",
   "metadata": {},
   "source": [
    "Add two vectors"
   ]
  },
  {
   "cell_type": "code",
   "execution_count": 19,
   "metadata": {},
   "outputs": [
    {
     "name": "stdout",
     "output_type": "stream",
     "text": [
      "output: Tensor(\"Add_2:0\", shape=(4,), dtype=float32)\n",
      "result:  [ 3.  3.  3.  3.]\n"
     ]
    }
   ],
   "source": [
    "with tf.Session():\n",
    "    input1 = tf.constant([1.0, 1.0, 1.0, 1.0])\n",
    "    input2 = tf.constant([2.0, 2.0, 2.0, 2.0])\n",
    "    output = tf.add(input1, input2)\n",
    "    print('output:', output)\n",
    "    result = output.eval()\n",
    "    print(\"result: \", result)"
   ]
  },
  {
   "cell_type": "code",
   "execution_count": 22,
   "metadata": {},
   "outputs": [
    {
     "name": "stdout",
     "output_type": "stream",
     "text": [
      "[3.0, 3.0, 3.0, 3.0]\n"
     ]
    }
   ],
   "source": [
    "print([x + y for x, y in zip([1.0] * 4, [2.0] * 4)])"
   ]
  },
  {
   "cell_type": "code",
   "execution_count": 23,
   "metadata": {},
   "outputs": [
    {
     "name": "stdout",
     "output_type": "stream",
     "text": [
      "[ 1.  1.  1.  1.] + [ 2.  2.  2.  2.] = [ 3.  3.  3.  3.]\n"
     ]
    }
   ],
   "source": [
    "x, y = np.full(4, 1.0), np.full(4, 2.0)\n",
    "print(\"{} + {} = {}\".format(x, y, x + y))"
   ]
  },
  {
   "cell_type": "markdown",
   "metadata": {},
   "source": [
    "Broadcast multiply"
   ]
  },
  {
   "cell_type": "code",
   "execution_count": 31,
   "metadata": {},
   "outputs": [
    {
     "name": "stdout",
     "output_type": "stream",
     "text": [
      "Tensor(\"Mul_16:0\", shape=(4,), dtype=int32)\n"
     ]
    }
   ],
   "source": [
    "x1 = tf.constant([1,2,3,4])\n",
    "x2 = tf.constant([5,6,7,8])\n",
    "\n",
    "# Multiply\n",
    "result = tf.multiply(x1, x2)\n",
    "print(result)\n",
    "# TODO student add code to see result value"
   ]
  },
  {
   "cell_type": "markdown",
   "metadata": {},
   "source": [
    "Many operators"
   ]
  },
  {
   "cell_type": "code",
   "execution_count": 37,
   "metadata": {},
   "outputs": [
    {
     "name": "stdout",
     "output_type": "stream",
     "text": [
      "[ 6.  6.  6.  6.]\n"
     ]
    }
   ],
   "source": [
    "with tf.Session():\n",
    "    input1 = tf.constant(1.0, shape=[4])\n",
    "    input2 = tf.constant(2.0, shape=[4])\n",
    "    input3 = tf.constant(3.0, shape=[4])\n",
    "    output = tf.add(tf.add(input1, input2), input3)\n",
    "    result = output.eval()\n",
    "    print(result)"
   ]
  },
  {
   "cell_type": "markdown",
   "metadata": {},
   "source": [
    "Override operator"
   ]
  },
  {
   "cell_type": "code",
   "execution_count": 35,
   "metadata": {},
   "outputs": [
    {
     "name": "stdout",
     "output_type": "stream",
     "text": [
      "[ 3.  3.  3.  3.]\n"
     ]
    }
   ],
   "source": [
    "with tf.Session():\n",
    "    input1 = tf.constant(1.0, shape=[4])\n",
    "    input2 = tf.constant(2.0, shape=[4])\n",
    "    output = input1 + input2\n",
    "    print(output.eval())"
   ]
  },
  {
   "cell_type": "markdown",
   "metadata": {},
   "source": [
    "Ngoài eval(), chúng ta thường dùng session.run() để thực hiện việc tính toán các giá trị của tensor, với tensor *output* ở trên chúng ta có thể tính giá trị như dưới."
   ]
  },
  {
   "cell_type": "code",
   "execution_count": 38,
   "metadata": {},
   "outputs": [
    {
     "name": "stdout",
     "output_type": "stream",
     "text": [
      "[ 6.  6.  6.  6.]\n"
     ]
    }
   ],
   "source": [
    "with tf.Session() as sess:\n",
    "    result = sess.run(output)\n",
    "    print(result)"
   ]
  },
  {
   "cell_type": "code",
   "execution_count": 39,
   "metadata": {},
   "outputs": [
    {
     "name": "stdout",
     "output_type": "stream",
     "text": [
      "Input:\n",
      "[[ 1.  0.  0.  1.]]\n",
      "Weights:\n",
      "[[-0.47019872  0.71016526]\n",
      " [ 0.0022694  -0.12541802]\n",
      " [ 0.41656488  0.72025007]\n",
      " [ 0.78675419 -1.37740159]]\n",
      "Output:\n",
      "[[ 0.31655547 -0.66723633]]\n"
     ]
    }
   ],
   "source": [
    "with tf.Session():\n",
    "    input_features = tf.constant(np.reshape([1, 0, 0, 1], (1, 4)).astype(np.float32))\n",
    "    weights = tf.constant(np.random.randn(4, 2).astype(np.float32))\n",
    "    output = tf.matmul(input_features, weights)\n",
    "    print(\"Input:\")\n",
    "    print(input_features.eval())\n",
    "    print(\"Weights:\")\n",
    "    print(weights.eval())\n",
    "    print(\"Output:\")\n",
    "    print(output.eval())"
   ]
  },
  {
   "cell_type": "markdown",
   "metadata": {},
   "source": [
    "**Làm quen với khái niệm**:\n",
    "\n",
    "Sinh viên đọc và chú ý phân biệt ý nghĩa sử dụng của chúng:\n",
    "\n",
    "* https://www.tensorflow.org/api_docs/python/tf/placeholder\n",
    "\n",
    "* https://www.tensorflow.org/api_docs/python/tf/Variable"
   ]
  },
  {
   "cell_type": "markdown",
   "metadata": {},
   "source": [
    "Placeholder example"
   ]
  },
  {
   "cell_type": "code",
   "execution_count": null,
   "metadata": {
    "collapsed": true
   },
   "outputs": [],
   "source": [
    "x = tf.placeholder(tf.float32, shape=(1024, 1024))\n",
    "y = tf.matmul(x, x)\n",
    "\n",
    "with tf.Session() as sess:\n",
    "  print(sess.run(y))  # ERROR: will fail because x was not fed.\n",
    "\n",
    "  rand_array = np.random.rand(1024, 1024)\n",
    "  print(sess.run(y, feed_dict={x: rand_array}))  # Will succeed."
   ]
  },
  {
   "cell_type": "markdown",
   "metadata": {},
   "source": [
    "Variables: https://www.tensorflow.org/programmers_guide/variables"
   ]
  },
  {
   "cell_type": "code",
   "execution_count": null,
   "metadata": {
    "collapsed": true
   },
   "outputs": [],
   "source": [
    "# run this 2 times may cause error: Variable v already exists\n",
    "with tf.Session() as sess:\n",
    "    v = tf.get_variable(\"v\", shape=(), initializer=tf.zeros_initializer())\n",
    "    assignment = v.assign_add(1)\n",
    "    tf.global_variables_initializer().run()\n",
    "    print(assignment.eval())"
   ]
  },
  {
   "cell_type": "code",
   "execution_count": null,
   "metadata": {
    "collapsed": true
   },
   "outputs": [],
   "source": [
    "#@test {\"output\": \"ignore\"}\n",
    "import tensorflow as tf\n",
    "import numpy as np\n",
    "\n",
    "with tf.Session() as sess:\n",
    "    # Set up two variables, total and weights, that we'll change repeatedly.\n",
    "    total = tf.Variable(tf.zeros([1, 2]))\n",
    "    weights = tf.Variable(tf.random_uniform([1,2]))\n",
    "\n",
    "    # Initialize the variables we defined above.\n",
    "    tf.global_variables_initializer().run()\n",
    "\n",
    "    # This only adds the operators to the graph right now. The assignment\n",
    "    # and addition operations are not performed yet.\n",
    "    update_weights = tf.assign(weights, tf.random_uniform([1, 2], -1.0, 1.0))\n",
    "    update_total = tf.assign(total, tf.add(total, weights))\n",
    "  \n",
    "    for _ in range(5):\n",
    "        # Actually run the operation graph, so randomly generate weights and then\n",
    "        # add them into the total. Order does matter here. We need to update\n",
    "        # the weights before updating the total.\n",
    "        sess.run(update_weights)\n",
    "        sess.run(update_total)\n",
    "    \n",
    "        print(weights.eval(), total.eval())"
   ]
  },
  {
   "cell_type": "markdown",
   "metadata": {},
   "source": [
    "Linear Regression Example from: [aymericdamien](https://github.com/aymericdamien/TensorFlow-Examples/blob/master/notebooks/2_BasicModels/linear_regression.ipynb)"
   ]
  },
  {
   "cell_type": "code",
   "execution_count": null,
   "metadata": {
    "collapsed": true
   },
   "outputs": [],
   "source": [
    "import tensorflow as tf\n",
    "import numpy\n",
    "import matplotlib.pyplot as plt\n",
    "rng = numpy.random"
   ]
  },
  {
   "cell_type": "code",
   "execution_count": null,
   "metadata": {
    "collapsed": true
   },
   "outputs": [],
   "source": [
    "# Parameters\n",
    "learning_rate = 0.01\n",
    "training_epochs = 1000\n",
    "display_step = 50"
   ]
  },
  {
   "cell_type": "code",
   "execution_count": null,
   "metadata": {
    "collapsed": true
   },
   "outputs": [],
   "source": [
    "# Training Data\n",
    "train_X = numpy.asarray([3.3,4.4,5.5,6.71,6.93,4.168,9.779,6.182,7.59,2.167,\n",
    "                         7.042,10.791,5.313,7.997,5.654,9.27,3.1])\n",
    "train_Y = numpy.asarray([1.7,2.76,2.09,3.19,1.694,1.573,3.366,2.596,2.53,1.221,\n",
    "                         2.827,3.465,1.65,2.904,2.42,2.94,1.3])\n",
    "n_samples = train_X.shape[0]"
   ]
  },
  {
   "cell_type": "code",
   "execution_count": null,
   "metadata": {
    "collapsed": true
   },
   "outputs": [],
   "source": [
    "# tf Graph Input\n",
    "X = tf.placeholder(\"float\")\n",
    "Y = tf.placeholder(\"float\")\n",
    "\n",
    "# Set model weights\n",
    "W = tf.Variable(rng.randn(), name=\"weight\")\n",
    "b = tf.Variable(rng.randn(), name=\"bias\")"
   ]
  },
  {
   "cell_type": "code",
   "execution_count": null,
   "metadata": {
    "collapsed": true
   },
   "outputs": [],
   "source": [
    "# Construct a linear model\n",
    "pred = tf.add(tf.multiply(X, W), b)"
   ]
  },
  {
   "cell_type": "code",
   "execution_count": null,
   "metadata": {
    "collapsed": true
   },
   "outputs": [],
   "source": [
    "# Mean squared error\n",
    "cost = tf.reduce_sum(tf.pow(pred-Y, 2))/(2*n_samples)\n",
    "# Gradient descent\n",
    "optimizer = tf.train.GradientDescentOptimizer(learning_rate).minimize(cost)"
   ]
  },
  {
   "cell_type": "code",
   "execution_count": null,
   "metadata": {
    "collapsed": true
   },
   "outputs": [],
   "source": [
    "# Initialize the variables (i.e. assign their default value)\n",
    "init = tf.global_variables_initializer()"
   ]
  },
  {
   "cell_type": "code",
   "execution_count": null,
   "metadata": {
    "collapsed": true
   },
   "outputs": [],
   "source": [
    "# Start training\n",
    "with tf.Session() as sess:\n",
    "    sess.run(init)\n",
    "\n",
    "    # Fit all training data\n",
    "    for epoch in range(training_epochs):\n",
    "        for (x, y) in zip(train_X, train_Y):\n",
    "            sess.run(optimizer, feed_dict={X: x, Y: y})\n",
    "\n",
    "        #Display logs per epoch step\n",
    "        if (epoch+1) % display_step == 0:\n",
    "            c = sess.run(cost, feed_dict={X: train_X, Y:train_Y})\n",
    "            print (\"Epoch:\", '%04d' % (epoch+1), \"cost=\", \"{:.9f}\".format(c), \n",
    "                \"W=\", sess.run(W), \"b=\", sess.run(b))\n",
    "\n",
    "    print (\"Optimization Finished!\")\n",
    "    training_cost = sess.run(cost, feed_dict={X: train_X, Y: train_Y})\n",
    "    print (\"Training cost=\", training_cost, \"W=\", sess.run(W), \"b=\", sess.run(b), '\\n')\n",
    "\n",
    "    #Graphic display\n",
    "    plt.plot(train_X, train_Y, 'ro', label='Original data')\n",
    "    plt.plot(train_X, sess.run(W) * train_X + sess.run(b), label='Fitted line')\n",
    "    plt.legend()\n",
    "    plt.show()"
   ]
  },
  {
   "cell_type": "markdown",
   "metadata": {},
   "source": [
    "**Tensorflow arithmetic operators**\n",
    "\n",
    "https://www.tensorflow.org/api_guides/python/math_ops#Arithmetic_Operators"
   ]
  },
  {
   "cell_type": "markdown",
   "metadata": {},
   "source": [
    "## Bài tập\n",
    "\n",
    "Bài nộp của sinh viên là chính là **file này** sau khi được đổi tên thành **MSSV.E9_introduction_numpy.ipynb** và đừng quên ghi thông tin sinh viên vào các ô ở dưới.\n",
    "\n",
    "Địa chỉ nộp bài: https://www.dropbox.com/request/h084jC1ZUTkUm5gosR6l\n",
    "\n",
    "Deadline nộp bài: **10:00 thứ 2 tuần tiếp theo**\n",
    "\n",
    "*Điểm bài này sẽ được tổng hợp với điểm chấm trên lớp (nếu có) để ra điểm cuối cùng*\n",
    "\n",
    "Thông tin sinh viên:"
   ]
  },
  {
   "cell_type": "code",
   "execution_count": 2,
   "metadata": {
    "collapsed": true
   },
   "outputs": [],
   "source": [
    "sid = '1410160'\n",
    "name = 'Doãn Kỳ Ân'\n",
    "\n",
    "import tensorflow as tf\n",
    "import numpy as np\n",
    "import time\n",
    "\n",
    "# sinh viên import các thư viện cần thiết ở đây"
   ]
  },
  {
   "cell_type": "markdown",
   "metadata": {},
   "source": [
    "### Bài 1\n",
    "Trong bài này, sinh viên sẽ tập làm quen với các thao tác cơ bản trên numpy, tensorflow, so sánh, đánh giá đơn giản về tốc độ tính toán"
   ]
  },
  {
   "cell_type": "markdown",
   "metadata": {},
   "source": [
    "a) Sinh viên viết hàm matrix_gen(m, n) để sinh ra ma trận các số thực trong khoảng [0, 1] ngẫu nhiên, output là python array biểu diễn cho ma trận. Sử dụng hàm để sinh ra hai ma trận và lưu vào hai biến tương ứng đã cho để sử dụng cho các câu tiếp theo."
   ]
  },
  {
   "cell_type": "code",
   "execution_count": 4,
   "metadata": {},
   "outputs": [],
   "source": [
    "# code sinh viên cho câu a\n",
    "def matrix_gen(m, n):\n",
    "    return np.random.rand(m,n)\n",
    "\n",
    "m, n, k=50, 40, 60\n",
    "matrix_mn = matrix_gen(m, n)\n",
    "matrix_nk = matrix_gen(n, k)"
   ]
  },
  {
   "cell_type": "markdown",
   "metadata": {},
   "source": [
    "b) Hãy viết một hàm py_matrix_mul(matrix_1, matrix_2) để nhân hai ma trận được truyền vào trong đó không sử dụng numpy, tensorflow hay các thư viện khác. (giả sử input đã đúng không cần kiểm tra"
   ]
  },
  {
   "cell_type": "code",
   "execution_count": 5,
   "metadata": {},
   "outputs": [
    {
     "name": "stdout",
     "output_type": "stream",
     "text": [
      "0.1358981743273194 s\n"
     ]
    }
   ],
   "source": [
    "# code câu b của sinh viên\n",
    "def py_matrix_mul(matrix_1, matrix_2):\n",
    "    rows_m1 = len(matrix_1)\n",
    "    cols_m1 = len(matrix_1[0])\n",
    "    rows_m2 = len(matrix_2)\n",
    "    cols_m2 = len(matrix_2[0])\n",
    "    if cols_m1 != rows_m2:\n",
    "        return None\n",
    "    m3 = [[0 for row in range(cols_m2)] for col in range(rows_m1)]\n",
    "    for i in range(rows_m1):\n",
    "        for j in range(cols_m2):\n",
    "            for k in range(cols_m1):\n",
    "                m3[i][j] += matrix_1[i][k] * matrix_2[k][j]\n",
    "    return m3\n",
    "    \n",
    "start_time = time.clock()\n",
    "mt_mul_py = py_matrix_mul(matrix_mn, matrix_nk)\n",
    "print (time.clock() - start_time, \"s\")"
   ]
  },
  {
   "cell_type": "markdown",
   "metadata": {},
   "source": [
    "c) Sử dụng numpy để hiện thực cho bài toán nhân hai ma trận với hai ma trân *matrix_mn* và *matrix_nk*, lưu kết quả cuối cùng vào mt_mul_numpy"
   ]
  },
  {
   "cell_type": "code",
   "execution_count": 11,
   "metadata": {},
   "outputs": [
    {
     "name": "stdout",
     "output_type": "stream",
     "text": [
      "0.0003169675443359665 s\n"
     ]
    }
   ],
   "source": [
    "# code câu c của sinh viên\n",
    "start_time = time.clock()\n",
    "mt_mul_numpy2 = np.matmul(matrix_mn,matrix_nk)\n",
    "print (time.clock() - start_time, \"s\")"
   ]
  },
  {
   "cell_type": "markdown",
   "metadata": {},
   "source": [
    "d) Sử dụng tensorflow để hiện thực cho câu c thay vì dùng numpy"
   ]
  },
  {
   "cell_type": "code",
   "execution_count": 15,
   "metadata": {},
   "outputs": [
    {
     "name": "stdout",
     "output_type": "stream",
     "text": [
      "Tensor(\"MatMul_5:0\", shape=(50, 60), dtype=float64)\n",
      "0.005320224763195824 s\n"
     ]
    }
   ],
   "source": [
    "# code câu d của sinh viên\n",
    "w1 = tf.constant(matrix_mn)\n",
    "w2 = tf.constant(matrix_nk)\n",
    "with tf.Session() as sess:\n",
    "    start_time = time.clock()\n",
    "    print(tf.matmul(matrix_mn,matrix_nk))\n",
    "    print (time.clock() - start_time, \"s\")"
   ]
  },
  {
   "cell_type": "markdown",
   "metadata": {},
   "source": [
    "e) Với các câu b, c, d, hãy chèn đoạn code để tính thời gian thực thi của mỗi phương pháp và so sánh, đánh giá về mặt thời gian thực thi của các thao tác.\n",
    "\n",
    "Nhận xét của sinh viên: ...Xét tương đối, numpy có thời gian thực thi nhanh nhất, sau đó là dùng tensorflow và cuối cùng là dùng code tự định nghĩa..."
   ]
  },
  {
   "cell_type": "markdown",
   "metadata": {},
   "source": [
    "### Bài 2\n",
    "\n",
    "Cho đoạn code sinh dữ liệu cho hàm f() như bên dưới.\n",
    "Sinh viên hãy chỉnh sửa đoạn code Linear Regression, \n",
    "chọn các tham số phù hợp để ra được kết quả tốt nhất có thể."
   ]
  },
  {
   "cell_type": "code",
   "execution_count": 16,
   "metadata": {},
   "outputs": [
    {
     "name": "stdout",
     "output_type": "stream",
     "text": [
      "x [  4.72926531e-01   9.98146098e-01   8.29433520e-02   3.20103556e-01\n",
      "   4.07062677e-01   5.19125311e-01   6.59665393e-01   7.04361503e-01\n",
      "   3.79783472e-01   3.37232247e-01   8.76711899e-01   3.88805667e-01\n",
      "   4.49746230e-01   7.57709269e-01   1.94367109e-01   1.36874127e-01\n",
      "   9.62025506e-01   8.59931988e-04   7.11277706e-01   6.99694648e-01\n",
      "   5.19213376e-01   8.01306999e-01   4.13773026e-01   4.92453236e-01\n",
      "   2.43164886e-01   2.37481467e-03   7.30579333e-01   1.94646024e-01\n",
      "   9.18329479e-01   4.07200174e-01   7.04842261e-01   7.03354260e-02\n",
      "   7.91245269e-01   7.25296012e-01   5.95672241e-01   5.73179207e-01\n",
      "   5.21884644e-03   6.52442863e-01   1.01044391e-01   1.67810451e-02\n",
      "   7.91571201e-01   3.37731872e-01   2.34811697e-01   3.56301920e-01\n",
      "   2.91470616e-01   6.12244637e-01   3.97188182e-01   1.22244042e-01\n",
      "   7.80684119e-01   6.74128496e-01]\n",
      "y [ 5.24387898  7.89753738  3.4413842   4.52983937  5.06316891  5.54112993\n",
      "  6.49027211  6.48111572  4.95643744  4.57703684  7.25758265  4.92419437\n",
      "  5.22904884  6.71574004  4.02004549  3.8660102   7.91040289  3.180692\n",
      "  6.43408762  6.38184297  5.54015815  7.09320994  5.17219727  5.34937915\n",
      "  4.08102087  3.08905947  6.6999934   3.90294259  7.71768805  5.07702276\n",
      "  6.52738312  3.47091495  6.85554394  6.69668381  6.10306061  5.8515114\n",
      "  2.98358358  6.30907953  3.44282222  3.25293911  7.02963016  4.60474031\n",
      "  4.16345444  4.82989662  4.60980177  6.00984318  5.0050877   3.52951175\n",
      "  6.90947662  6.54057026]\n"
     ]
    }
   ],
   "source": [
    "def f(x):\n",
    "    return x * 5 + 3\n",
    "\n",
    "llen = 50\n",
    "x = np.random.rand(llen)\n",
    "y = f(x) + np.random.normal(0, 0.1, llen)\n",
    "\n",
    "print('x', x)\n",
    "print('y', y)\n",
    "\n",
    "train_X = x\n",
    "train_Y = y\n",
    "n_samples = train_X.shape[0]"
   ]
  },
  {
   "cell_type": "markdown",
   "metadata": {},
   "source": [
    "*Code sinh viên ở dưới*"
   ]
  },
  {
   "cell_type": "code",
   "execution_count": 28,
   "metadata": {},
   "outputs": [
    {
     "name": "stdout",
     "output_type": "stream",
     "text": [
      "x [ 0.49197164  0.02733557  0.17748536  0.34091344  0.9138305   0.15503928\n",
      "  0.4193675   0.15137168  0.45030417  0.60148155  0.6174411   0.61058698\n",
      "  0.28267937  0.66410025  0.52582365  0.0770516   0.44668713  0.79502243\n",
      "  0.85619484  0.84431723  0.01950037  0.2789094   0.25288084  0.30312656\n",
      "  0.89864355  0.85761741  0.84966341  0.80189429  0.46091735  0.22197312\n",
      "  0.79531343  0.91375217  0.14207595  0.22827712  0.60653224  0.15605564\n",
      "  0.8086918   0.6710818   0.70537918  0.38691355  0.00423604  0.26722081\n",
      "  0.61971053  0.2955417   0.68202641  0.78854638  0.6841304   0.85066279\n",
      "  0.40693085  0.40455004]\n",
      "y [ 5.47576512  3.11855573  3.70913989  4.76862144  7.52733453  3.96131159\n",
      "  5.08098663  3.73251096  5.18478138  5.83380923  5.92582899  6.06796124\n",
      "  4.53240047  6.40853439  5.69252937  3.09558583  5.17460557  7.07877289\n",
      "  7.39364242  7.18798361  3.1192129   4.60443995  4.13103625  4.4132385\n",
      "  7.53183747  7.2174417   7.36774261  7.08592877  5.17401911  3.91713219\n",
      "  7.09100516  7.45334447  3.79735564  4.24779872  6.20255861  3.60403995\n",
      "  7.00277467  6.46991654  6.4441146   4.80899514  3.09559324  4.15092728\n",
      "  6.19967231  4.6506183   6.41617689  6.86356099  6.54499064  7.14894153\n",
      "  4.92985316  5.11263265]\n",
      "Epoch: 0010 cost= 0.075070426 W= 3.72608 b= 3.68774\n",
      "Epoch: 0020 cost= 0.027239444 W= 4.32757 b= 3.36172\n",
      "Epoch: 0030 cost= 0.012963382 W= 4.65612 b= 3.18362\n",
      "Epoch: 0040 cost= 0.008701406 W= 4.83558 b= 3.08634\n",
      "Epoch: 0050 cost= 0.007428414 W= 4.93361 b= 3.03321\n",
      "Optimization Finished!\n",
      "Training cost= 0.00742841 W= 4.93361 b= 3.03321 \n",
      "\n"
     ]
    },
    {
     "data": {
      "image/png": "[encoded data removed]",
      "text/plain": [
       "<matplotlib.figure.Figure at 0x16b37ce14a8>"
      ]
     },
     "metadata": {},
     "output_type": "display_data"
    }
   ],
   "source": [
    "# TODO\n",
    "import tensorflow as tf\n",
    "import numpy\n",
    "import matplotlib.pyplot as plt\n",
    "rng = numpy.random\n",
    "def f(x):\n",
    "    return x * 5 + 3\n",
    "\n",
    "llen = 50\n",
    "x = np.random.rand(llen)\n",
    "y = f(x) + np.random.normal(0, 0.1, llen)\n",
    "print('x', x)\n",
    "print('y', y)\n",
    "train_X = x\n",
    "train_Y = y\n",
    "n_samples = train_X.shape[0]\n",
    "learning_rate = 1\n",
    "training_epochs = 50\n",
    "display_step = 10\n",
    "\n",
    "# tf Graph Input\n",
    "X = tf.placeholder(\"float\")\n",
    "Y = tf.placeholder(\"float\")\n",
    "\n",
    "# Set model weights\n",
    "W = tf.Variable(rng.randn(), name=\"weight\")\n",
    "b = tf.Variable(rng.randn(), name=\"bias\")\n",
    "\n",
    "#Construct a linear model\n",
    "pred = tf.add(tf.multiply(X, W), b)\n",
    "\n",
    "# Mean squared error\n",
    "cost = tf.reduce_sum(tf.pow(pred-Y, 2))/(2*n_samples)\n",
    "# Gradient descent\n",
    "optimizer = tf.train.GradientDescentOptimizer(learning_rate).minimize(cost)\n",
    "\n",
    "# Initialize the variables (i.e. assign their default value)\n",
    "init = tf.global_variables_initializer()\n",
    "\n",
    "# Start training\n",
    "with tf.Session() as sess:\n",
    "    sess.run(init)\n",
    "\n",
    "    # Fit all training data\n",
    "    for epoch in range(training_epochs):\n",
    "        for (x, y) in zip(train_X, train_Y):\n",
    "            sess.run(optimizer, feed_dict={X: x, Y: y})\n",
    "\n",
    "        #Display logs per epoch step\n",
    "        if (epoch+1) % display_step == 0:\n",
    "            c = sess.run(cost, feed_dict={X: train_X, Y:train_Y})\n",
    "            print (\"Epoch:\", '%04d' % (epoch+1), \"cost=\", \"{:.9f}\".format(c), \n",
    "                \"W=\", sess.run(W), \"b=\", sess.run(b))\n",
    "\n",
    "    print (\"Optimization Finished!\")\n",
    "    training_cost = sess.run(cost, feed_dict={X: train_X, Y: train_Y})\n",
    "    print (\"Training cost=\", training_cost, \"W=\", sess.run(W), \"b=\", sess.run(b), '\\n')\n",
    "\n",
    "    #Graphic display\n",
    "    plt.plot(train_X, train_Y, 'ro', label='Original data')\n",
    "    plt.plot(train_X, sess.run(W) * train_X + sess.run(b), label='Fitted line')\n",
    "    plt.legend()\n",
    "    plt.show()\n"
   ]
  },
  {
   "cell_type": "markdown",
   "metadata": {},
   "source": [
    "*Những nhận xét đánh giá của sinh viên*:\n",
    "\n",
    "...............................................................................\n",
    "\n",
    "..............................................................................."
   ]
  }
 ],
 "metadata": {
  "kernelspec": {
   "display_name": "Python 3",
   "language": "python",
   "name": "python3"
  },
  "language_info": {
   "codemirror_mode": {
    "name": "ipython",
    "version": 3
   },
   "file_extension": ".py",
   "mimetype": "text/x-python",
   "name": "python",
   "nbconvert_exporter": "python",
   "pygments_lexer": "ipython3",
   "version": "3.5.4"
  }
 },
 "nbformat": 4,
 "nbformat_minor": 2
}
