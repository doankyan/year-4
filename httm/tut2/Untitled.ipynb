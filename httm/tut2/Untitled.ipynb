{
 "cells": [
  {
   "cell_type": "code",
   "execution_count": 57,
   "metadata": {
    "collapsed": true
   },
   "outputs": [],
   "source": [
    "import tensorflow as tf\n",
    "import numpy\n",
    "import matplotlib.pyplot as plt\n",
    "import time\n",
    "rng = numpy.random"
   ]
  },
  {
   "cell_type": "code",
   "execution_count": 7,
   "metadata": {
    "collapsed": true
   },
   "outputs": [],
   "source": [
    "# Parameters\n",
    "learning_rate = 0.01\n",
    "training_epochs = 1000\n",
    "display_step = 50"
   ]
  },
  {
   "cell_type": "code",
   "execution_count": 8,
   "metadata": {
    "collapsed": true
   },
   "outputs": [],
   "source": [
    "# Training Data\n",
    "train_X = numpy.asarray([3.3,4.4,5.5,6.71,6.93,4.168,9.779,6.182,7.59,2.167,\n",
    "                         7.042,10.791,5.313,7.997,5.654,9.27,3.1])\n",
    "train_Y = numpy.asarray([1.7,2.76,2.09,3.19,1.694,1.573,3.366,2.596,2.53,1.221,\n",
    "                         2.827,3.465,1.65,2.904,2.42,2.94,1.3])\n",
    "n_samples = train_X.shape[0]"
   ]
  },
  {
   "cell_type": "code",
   "execution_count": 11,
   "metadata": {},
   "outputs": [],
   "source": [
    "# tf Graph Input\n",
    "X = tf.placeholder(\"float\")\n",
    "Y = tf.placeholder(\"float\")\n",
    "\n",
    "# Set model weights\n",
    "W = tf.Variable(rng.randn(), name=\"weight\")\n",
    "b = tf.Variable(rng.randn(), name=\"bias\")"
   ]
  },
  {
   "cell_type": "code",
   "execution_count": 15,
   "metadata": {},
   "outputs": [],
   "source": [
    "# Construct a linear model\n",
    "pred = tf.add(tf.multiply(X, W), b)"
   ]
  },
  {
   "cell_type": "code",
   "execution_count": 16,
   "metadata": {
    "collapsed": true
   },
   "outputs": [],
   "source": [
    "# Mean squared error\n",
    "cost = tf.reduce_sum(tf.pow(pred-Y, 2))/(2*n_samples)\n",
    "# Gradient descent\n",
    "optimizer = tf.train.GradientDescentOptimizer(learning_rate).minimize(cost)"
   ]
  },
  {
   "cell_type": "code",
   "execution_count": 17,
   "metadata": {
    "collapsed": true
   },
   "outputs": [],
   "source": [
    "# Initialize the variables (i.e. assign their default value)\n",
    "init = tf.global_variables_initializer()"
   ]
  },
  {
   "cell_type": "code",
   "execution_count": 18,
   "metadata": {},
   "outputs": [
    {
     "name": "stdout",
     "output_type": "stream",
     "text": [
      "Epoch: 0050 cost= 0.302414477 W= 0.514975 b= -1.10767\n",
      "Epoch: 0100 cost= 0.276376009 W= 0.499192 b= -0.994127\n",
      "Epoch: 0150 cost= 0.253343672 W= 0.484347 b= -0.887334\n",
      "Epoch: 0200 cost= 0.232970878 W= 0.470385 b= -0.786893\n",
      "Epoch: 0250 cost= 0.214950427 W= 0.457254 b= -0.692426\n",
      "Epoch: 0300 cost= 0.199010730 W= 0.444903 b= -0.603576\n",
      "Epoch: 0350 cost= 0.184911922 W= 0.433287 b= -0.520012\n",
      "Epoch: 0400 cost= 0.172441199 W= 0.422362 b= -0.441418\n",
      "Epoch: 0450 cost= 0.161410570 W= 0.412087 b= -0.367498\n",
      "Epoch: 0500 cost= 0.151653945 W= 0.402423 b= -0.297974\n",
      "Epoch: 0550 cost= 0.143024117 W= 0.393333 b= -0.232585\n",
      "Epoch: 0600 cost= 0.135391116 W= 0.384784 b= -0.171085\n",
      "Epoch: 0650 cost= 0.128639713 W= 0.376744 b= -0.113243\n",
      "Epoch: 0700 cost= 0.122668199 W= 0.369182 b= -0.0588407\n",
      "Epoch: 0750 cost= 0.117386483 W= 0.362069 b= -0.00767421\n",
      "Epoch: 0800 cost= 0.112714894 W= 0.35538 b= 0.0404493\n",
      "Epoch: 0850 cost= 0.108583093 W= 0.349088 b= 0.0857106\n",
      "Epoch: 0900 cost= 0.104928650 W= 0.343171 b= 0.12828\n",
      "Epoch: 0950 cost= 0.101696447 W= 0.337605 b= 0.168318\n",
      "Epoch: 1000 cost= 0.098837763 W= 0.332371 b= 0.205974\n",
      "Optimization Finished!\n",
      "Training cost= 0.0988378 W= 0.332371 b= 0.205974 \n",
      "\n"
     ]
    },
    {
     "data": {
      "image/png": "[encoded data removed]",
      "text/plain": [
       "<matplotlib.figure.Figure at 0x17a4a84a320>"
      ]
     },
     "metadata": {},
     "output_type": "display_data"
    }
   ],
   "source": [
    "# Start training\n",
    "with tf.Session() as sess:\n",
    "    sess.run(init)\n",
    "\n",
    "    # Fit all training data\n",
    "    for epoch in range(training_epochs):\n",
    "        for (x, y) in zip(train_X, train_Y):\n",
    "            sess.run(optimizer, feed_dict={X: x, Y: y})\n",
    "\n",
    "        #Display logs per epoch step\n",
    "        if (epoch+1) % display_step == 0:\n",
    "            c = sess.run(cost, feed_dict={X: train_X, Y:train_Y})\n",
    "            print (\"Epoch:\", '%04d' % (epoch+1), \"cost=\", \"{:.9f}\".format(c), \n",
    "                \"W=\", sess.run(W), \"b=\", sess.run(b))\n",
    "\n",
    "    print (\"Optimization Finished!\")\n",
    "    training_cost = sess.run(cost, feed_dict={X: train_X, Y: train_Y})\n",
    "    print (\"Training cost=\", training_cost, \"W=\", sess.run(W), \"b=\", sess.run(b), '\\n')\n",
    "\n",
    "    #Graphic display\n",
    "    plt.plot(train_X, train_Y, 'ro', label='Original data')\n",
    "    plt.plot(train_X, sess.run(W) * train_X + sess.run(b), label='Fitted line')\n",
    "    plt.legend()\n",
    "    plt.show()"
   ]
  },
  {
   "cell_type": "code",
   "execution_count": 27,
   "metadata": {
    "collapsed": true
   },
   "outputs": [],
   "source": [
    "# code sinh viên cho câu a\n",
    "def matrix_gen(m, n):\n",
    "    return numpy.random.rand(m,n)\n",
    "\n",
    "m, n, k=50, 40, 60\n",
    "matrix_mn = matrix_gen(m, n)\n",
    "matrix_nk = matrix_gen(n, k)"
   ]
  },
  {
   "cell_type": "code",
   "execution_count": 63,
   "metadata": {},
   "outputs": [
    {
     "name": "stdout",
     "output_type": "stream",
     "text": [
      "0.13781748827673823 seconds\n"
     ]
    }
   ],
   "source": [
    "# code câu b của sinh viên\n",
    "def py_matrix_mul(matrix_1, matrix_2):\n",
    "    rows_m1 = len(matrix_1)\n",
    "    cols_m1 = len(matrix_1[0])\n",
    "    rows_m2 = len(matrix_2)\n",
    "    cols_m2 = len(matrix_2[0])\n",
    "    if cols_m1 != rows_m2:\n",
    "        return None\n",
    "    m3 = [[0 for row in range(cols_m2)] for col in range(rows_m1)]\n",
    "    for i in range(rows_m1):\n",
    "        for j in range(cols_m2):\n",
    "            for k in range(cols_m1):\n",
    "                m3[i][j] += matrix_1[i][k] * matrix_2[k][j]\n",
    "    return m3\n",
    "    \n",
    "start_time = time.clock()\n",
    "mt_mul_py1 = py_matrix_mul(matrix_mn, matrix_nk)\n",
    "print (time.clock() - start_time, \"seconds\")\n"
   ]
  },
  {
   "cell_type": "code",
   "execution_count": 68,
   "metadata": {},
   "outputs": [
    {
     "name": "stdout",
     "output_type": "stream",
     "text": [
      "0.0002378765951789319 seconds\n"
     ]
    }
   ],
   "source": [
    "# code câu c của sinh viên\n",
    "start_time = time.clock()\n",
    "mt_mul_numpy2 = np.matmul(matrix_mn,matrix_nk)\n",
    "print (time.clock() - start_time, \"seconds\")"
   ]
  },
  {
   "cell_type": "code",
   "execution_count": 67,
   "metadata": {},
   "outputs": [
    {
     "name": "stdout",
     "output_type": "stream",
     "text": [
      "Tensor(\"MatMul_5:0\", shape=(50, 60), dtype=float64)\n",
      "0.008358886954880518 seconds\n"
     ]
    }
   ],
   "source": [
    "start_time = time.clock()\n",
    "w1 = tf.constant(matrix_mn)\n",
    "w2 = tf.constant(matrix_nk)\n",
    "with tf.Session() as sess:\n",
    "    print(tf.matmul(matrix_mn,matrix_nk))\n",
    "print (time.clock() - start_time, \"seconds\")"
   ]
  },
  {
   "cell_type": "code",
   "execution_count": 126,
   "metadata": {},
   "outputs": [
    {
     "name": "stdout",
     "output_type": "stream",
     "text": [
      "x [ 0.31522772  0.61368883  0.13954083  0.89300772  0.56855962  0.72300427\n",
      "  0.11959817  0.25952734  0.91599053  0.44837059  0.78303906  0.13325666\n",
      "  0.22122209  0.74341903  0.1637487   0.11558313  0.88261803  0.57922697\n",
      "  0.30518359  0.05209734  0.77837509  0.71070331  0.44783628  0.97009893\n",
      "  0.68837332  0.13778467  0.65490783  0.60920905  0.0365873   0.0171856\n",
      "  0.64967584  0.10455399  0.2852813   0.08680752  0.40147697  0.72786841\n",
      "  0.38644425  0.70074364  0.61308373  0.66253318  0.17214177  0.41281984\n",
      "  0.16500397  0.22020095  0.86041059  0.29194898  0.41534056  0.41007681\n",
      "  0.58709624  0.55580201]\n",
      "y [ 4.66470601  6.13696816  3.87515025  7.32107315  5.71304879  6.5906564\n",
      "  3.46416844  4.31748112  7.60258861  5.29082336  6.84001843  3.73289324\n",
      "  3.98317219  6.71164722  3.62945158  3.59310844  7.25327996  5.95017392\n",
      "  4.46448259  3.37382866  6.86627134  6.5439882   5.2284017   7.88444693\n",
      "  6.3687961   3.63128572  6.35450093  6.02996166  3.06279231  3.08049427\n",
      "  6.19067232  3.51521338  4.45140107  3.37154227  4.97225622  6.7915667\n",
      "  4.98741721  6.34504938  5.91340008  6.41793539  3.66844593  5.24633695\n",
      "  3.9167908   4.23964999  7.27120257  4.59210873  5.12769767  5.19707617\n",
      "  6.01851916  5.86957522]\n"
     ]
    }
   ],
   "source": [
    "def f(x):\n",
    "    return x * 5 + 3\n",
    "\n",
    "llen = 50\n",
    "x = np.random.rand(llen)\n",
    "y = f(x) + np.random.normal(0, 0.1, llen)\n",
    "print('x', x)\n",
    "print('y', y)\n",
    "train_X = x\n",
    "train_Y = y\n",
    "n_samples = train_X.shape[0]\n",
    "learning_rate = 1\n",
    "training_epochs = 50\n",
    "display_step = 5"
   ]
  },
  {
   "cell_type": "code",
   "execution_count": 127,
   "metadata": {
    "collapsed": true
   },
   "outputs": [],
   "source": [
    "# tf Graph Input\n",
    "X = tf.placeholder(\"float\")\n",
    "Y = tf.placeholder(\"float\")\n",
    "\n",
    "# Set model weights\n",
    "W = tf.Variable(rng.randn(), name=\"weight\")\n",
    "b = tf.Variable(rng.randn(), name=\"bias\")"
   ]
  },
  {
   "cell_type": "code",
   "execution_count": 128,
   "metadata": {
    "collapsed": true
   },
   "outputs": [],
   "source": [
    "# Construct a linear model\n",
    "pred = tf.add(tf.multiply(X, W), b)"
   ]
  },
  {
   "cell_type": "code",
   "execution_count": 129,
   "metadata": {
    "collapsed": true
   },
   "outputs": [],
   "source": [
    "# Mean squared error\n",
    "cost = tf.reduce_sum(tf.pow(pred-Y, 2))/(2*n_samples)\n",
    "# Gradient descent\n",
    "optimizer = tf.train.GradientDescentOptimizer(learning_rate).minimize(cost)"
   ]
  },
  {
   "cell_type": "code",
   "execution_count": 130,
   "metadata": {
    "collapsed": true
   },
   "outputs": [],
   "source": [
    "# Initialize the variables (i.e. assign their default value)\n",
    "init = tf.global_variables_initializer()"
   ]
  },
  {
   "cell_type": "code",
   "execution_count": 131,
   "metadata": {},
   "outputs": [
    {
     "name": "stdout",
     "output_type": "stream",
     "text": [
      "Epoch: 0005 cost= 0.279203266 W= 2.26415 b= 4.30974\n",
      "Epoch: 0010 cost= 0.153042838 W= 2.98393 b= 3.97169\n",
      "Epoch: 0015 cost= 0.084948368 W= 3.51113 b= 3.71991\n",
      "Epoch: 0020 cost= 0.048171245 W= 3.89849 b= 3.53491\n",
      "Epoch: 0025 cost= 0.028305490 W= 4.18312 b= 3.39897\n",
      "Epoch: 0030 cost= 0.017572721 W= 4.39225 b= 3.29909\n",
      "Epoch: 0035 cost= 0.011772797 W= 4.54592 b= 3.2257\n",
      "Epoch: 0040 cost= 0.008637378 W= 4.65883 b= 3.17177\n",
      "Epoch: 0045 cost= 0.006941710 W= 4.74178 b= 3.13215\n",
      "Epoch: 0050 cost= 0.006023951 W= 4.80274 b= 3.10304\n",
      "Optimization Finished!\n",
      "Training cost= 0.00602395 W= 4.80274 b= 3.10304 \n",
      "\n"
     ]
    },
    {
     "data": {
      "image/png": "[encoded data removed]",
      "text/plain": [
       "<matplotlib.figure.Figure at 0x17a4c82a0b8>"
      ]
     },
     "metadata": {},
     "output_type": "display_data"
    }
   ],
   "source": [
    "# Start training\n",
    "with tf.Session() as sess:\n",
    "    sess.run(init)\n",
    "\n",
    "    # Fit all training data\n",
    "    for epoch in range(training_epochs):\n",
    "        for (x, y) in zip(train_X, train_Y):\n",
    "            sess.run(optimizer, feed_dict={X: x, Y: y})\n",
    "\n",
    "        #Display logs per epoch step\n",
    "        if (epoch+1) % display_step == 0:\n",
    "            c = sess.run(cost, feed_dict={X: train_X, Y:train_Y})\n",
    "            print (\"Epoch:\", '%04d' % (epoch+1), \"cost=\", \"{:.9f}\".format(c), \n",
    "                \"W=\", sess.run(W), \"b=\", sess.run(b))\n",
    "\n",
    "    print (\"Optimization Finished!\")\n",
    "    training_cost = sess.run(cost, feed_dict={X: train_X, Y: train_Y})\n",
    "    print (\"Training cost=\", training_cost, \"W=\", sess.run(W), \"b=\", sess.run(b), '\\n')\n",
    "\n",
    "    #Graphic display\n",
    "    plt.plot(train_X, train_Y, 'ro', label='Original data')\n",
    "    plt.plot(train_X, sess.run(W) * train_X + sess.run(b), label='Fitted line')\n",
    "    plt.legend()\n",
    "    plt.show()"
   ]
  },
  {
   "cell_type": "code",
   "execution_count": null,
   "metadata": {
    "collapsed": true
   },
   "outputs": [],
   "source": []
  }
 ],
 "metadata": {
  "kernelspec": {
   "display_name": "Python 3",
   "language": "python",
   "name": "python3"
  },
  "language_info": {
   "codemirror_mode": {
    "name": "ipython",
    "version": 3
   },
   "file_extension": ".py",
   "mimetype": "text/x-python",
   "name": "python",
   "nbconvert_exporter": "python",
   "pygments_lexer": "ipython3",
   "version": "3.5.4"
  }
 },
 "nbformat": 4,
 "nbformat_minor": 2
}
